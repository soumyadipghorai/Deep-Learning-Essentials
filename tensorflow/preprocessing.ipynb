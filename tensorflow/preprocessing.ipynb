{
 "cells": [
  {
   "cell_type": "code",
   "execution_count": 34,
   "metadata": {},
   "outputs": [],
   "source": [
    "import numpy as np \n",
    "import tensorflow as tf\n",
    "import matplotlib.pyplot as plt  \n",
    "import pandas as pd \n",
    "np.set_printoptions(precision=3, suppress=True)\n",
    "\n",
    "import functools\n",
    "from __future__ import absolute_import, division, print_function, unicode_literals"
   ]
  },
  {
   "cell_type": "code",
   "execution_count": 35,
   "metadata": {},
   "outputs": [],
   "source": [
    "TRAIN_DATA_URL = \"https://storage.googleapis.com/tf-datasets/titanic/train.csv\"\n",
    "TEST_DATA_URL = \"https://storage.googleapis.com/tf-datasets/titanic/eval.csv\"\n",
    "\n",
    "train_file_path = tf.keras.utils.get_file('train.csv', TRAIN_DATA_URL)\n",
    "test_file_path = tf.keras.utils.get_file('eval.csv', TEST_DATA_URL)"
   ]
  },
  {
   "cell_type": "code",
   "execution_count": 36,
   "metadata": {},
   "outputs": [],
   "source": [
    "LABEL_COLUMN = 'survived'\n",
    "LABELS = {0, 1}\n",
    "\n",
    "# makes dataset from csv file and returns dataset \n",
    "def get_dataset(file_path, **kwargs) : \n",
    "    dataset = tf.data.experimental.make_csv_dataset(\n",
    "        file_path, batch_size=5, label_name=LABEL_COLUMN, \n",
    "        na_value=\"?\", num_epochs=1, ignore_errors=True, **kwargs\n",
    "    )\n",
    "\n",
    "    return dataset\n",
    "\n",
    "raw_train_data = get_dataset(train_file_path)\n",
    "raw_test_data = get_dataset(test_file_path)"
   ]
  },
  {
   "cell_type": "code",
   "execution_count": 37,
   "metadata": {},
   "outputs": [
    {
     "name": "stdout",
     "output_type": "stream",
     "text": [
      "sex                  : [b'female' b'male' b'female' b'female' b'male']\n",
      "age                  : [29. 18. 24. 28. 31.]\n",
      "n_siblings_spouses   : [1 0 0 1 1]\n",
      "parch                : [1 0 0 0 1]\n",
      "fare                 : [10.462  8.3   69.3   15.5   37.004]\n",
      "class                : [b'Third' b'Third' b'First' b'Third' b'Second']\n",
      "deck                 : [b'G' b'unknown' b'B' b'unknown' b'unknown']\n",
      "embark_town          : [b'Southampton' b'Southampton' b'Cherbourg' b'Queenstown' b'Cherbourg']\n",
      "alone                : [b'n' b'y' b'y' b'n' b'n']\n"
     ]
    }
   ],
   "source": [
    "def show_batch(dataset) : \n",
    "    for batch, label in dataset.take(1) : \n",
    "        for key, value in batch.items() : \n",
    "            print(\"{:20s} : {}\".format(key, value.numpy()))\n",
    "\n",
    "show_batch(raw_train_data) # batch size 5"
   ]
  },
  {
   "cell_type": "code",
   "execution_count": 38,
   "metadata": {},
   "outputs": [
    {
     "name": "stdout",
     "output_type": "stream",
     "text": [
      "age                  : [29.  24.  55.5 30.  26. ]\n",
      "n_siblings_spouses   : [0 0 0 0 1]\n",
      "class                : [b'First' b'Third' b'Third' b'Second' b'Second']\n",
      "deck                 : [b'B' b'unknown' b'unknown' b'unknown' b'unknown']\n",
      "alone                : [b'y' b'n' b'y' b'y' b'n']\n"
     ]
    }
   ],
   "source": [
    "SELECT_COLUMNS = {\"survived\", \"age\", \"n_siblings_spouses\", \"class\", \"deck\", \"alone\"}\n",
    "temp_dataset = get_dataset(train_file_path, select_columns=SELECT_COLUMNS)\n",
    "show_batch(temp_dataset) # only selected features "
   ]
  },
  {
   "cell_type": "markdown",
   "metadata": {},
   "source": [
    "if data is already numeric we can pack it into a vector before passing to the model "
   ]
  },
  {
   "cell_type": "code",
   "execution_count": 39,
   "metadata": {},
   "outputs": [
    {
     "name": "stdout",
     "output_type": "stream",
     "text": [
      "age                  : [28. 28. 36. 24. 22.]\n",
      "n_siblings_spouses   : [0. 1. 0. 0. 0.]\n",
      "parch                : [0. 0. 0. 0. 0.]\n",
      "fare                 : [  7.896  24.15  135.633  79.2     7.75 ]\n"
     ]
    }
   ],
   "source": [
    "SELECT_COLUMNS = [\"survived\", \"age\", \"n_siblings_spouses\", \"parch\", \"fare\"]\n",
    "DEFAULTS = [0, 0.0, 0.0, 0.0, 0.0]\n",
    "temp_dataset = get_dataset(\n",
    "    train_file_path, select_columns=SELECT_COLUMNS, column_defaults = DEFAULTS\n",
    ")\n",
    "show_batch(temp_dataset) # only selected features "
   ]
  },
  {
   "cell_type": "code",
   "execution_count": 40,
   "metadata": {},
   "outputs": [],
   "source": [
    "example_batch, labels_batch = next(iter(temp_dataset))"
   ]
  },
  {
   "cell_type": "code",
   "execution_count": 41,
   "metadata": {},
   "outputs": [
    {
     "name": "stdout",
     "output_type": "stream",
     "text": [
      "[[27.     0.     0.     8.663]\n",
      " [28.     8.     2.    69.55 ]\n",
      " [16.     0.     0.     7.75 ]\n",
      " [22.     1.     1.    29.   ]\n",
      " [31.     0.     0.     7.775]]\n",
      "\n",
      "[1 0 1 1 0]\n"
     ]
    }
   ],
   "source": [
    "def pack(feature, label) : \n",
    "    return tf.stack(list(feature.values()), axis = 1), label\n",
    "\n",
    "packed_dataset = temp_dataset.map(pack)\n",
    "for feature, labels in packed_dataset.take(1) :\n",
    "    print(feature.numpy())\n",
    "    print()\n",
    "    print(labels.numpy())"
   ]
  },
  {
   "cell_type": "code",
   "execution_count": 42,
   "metadata": {},
   "outputs": [],
   "source": [
    "class PackNumericFeatures(object) : \n",
    "    def __init__(self, names) : \n",
    "        self.names = names  \n",
    "\n",
    "    def __call__(self, features, labels) :  \n",
    "        numeric_features = [features.pop(name) for name in self.names]\n",
    "        numeric_features = [tf.cast(feat, tf.float32) for feat in numeric_features]\n",
    "        numeric_features = tf.stack(numeric_features, axis = -1)\n",
    "        features.update({'numeric' : numeric_features}) \n",
    "\n",
    "        return features, labels"
   ]
  },
  {
   "cell_type": "code",
   "execution_count": 43,
   "metadata": {},
   "outputs": [],
   "source": [
    "NUMERIC_FEATURES = [\"age\", \"n_siblings_spouses\", \"parch\", \"fare\"]\n",
    "\n",
    "packed_train_data = raw_train_data.map(\n",
    "    PackNumericFeatures(NUMERIC_FEATURES)\n",
    ")\n",
    "packed_test_data = raw_test_data.map(\n",
    "    PackNumericFeatures(NUMERIC_FEATURES)\n",
    ")"
   ]
  },
  {
   "cell_type": "markdown",
   "metadata": {},
   "source": [
    "\n",
    " all the numeric features are packed in a tensor where others are kept seperate "
   ]
  },
  {
   "cell_type": "code",
   "execution_count": 44,
   "metadata": {},
   "outputs": [
    {
     "name": "stdout",
     "output_type": "stream",
     "text": [
      "sex                  : [b'male' b'male' b'male' b'male' b'male']\n",
      "class                : [b'Third' b'Second' b'First' b'Third' b'First']\n",
      "deck                 : [b'unknown' b'unknown' b'unknown' b'unknown' b'A']\n",
      "embark_town          : [b'Southampton' b'Southampton' b'Southampton' b'Southampton'\n",
      " b'Southampton']\n",
      "alone                : [b'y' b'y' b'y' b'n' b'y']\n",
      "numeric              : [[18.     0.     0.     7.775]\n",
      " [24.     0.     0.    13.   ]\n",
      " [34.     0.     0.    26.55 ]\n",
      " [ 1.     5.     2.    46.9  ]\n",
      " [39.     0.     0.     0.   ]]\n"
     ]
    }
   ],
   "source": [
    "show_batch(packed_train_data)"
   ]
  },
  {
   "cell_type": "code",
   "execution_count": 45,
   "metadata": {},
   "outputs": [
    {
     "data": {
      "text/html": [
       "<div>\n",
       "<style scoped>\n",
       "    .dataframe tbody tr th:only-of-type {\n",
       "        vertical-align: middle;\n",
       "    }\n",
       "\n",
       "    .dataframe tbody tr th {\n",
       "        vertical-align: top;\n",
       "    }\n",
       "\n",
       "    .dataframe thead th {\n",
       "        text-align: right;\n",
       "    }\n",
       "</style>\n",
       "<table border=\"1\" class=\"dataframe\">\n",
       "  <thead>\n",
       "    <tr style=\"text-align: right;\">\n",
       "      <th></th>\n",
       "      <th>age</th>\n",
       "      <th>n_siblings_spouses</th>\n",
       "      <th>parch</th>\n",
       "      <th>fare</th>\n",
       "    </tr>\n",
       "  </thead>\n",
       "  <tbody>\n",
       "    <tr>\n",
       "      <th>count</th>\n",
       "      <td>627.000000</td>\n",
       "      <td>627.000000</td>\n",
       "      <td>627.000000</td>\n",
       "      <td>627.000000</td>\n",
       "    </tr>\n",
       "    <tr>\n",
       "      <th>mean</th>\n",
       "      <td>29.631308</td>\n",
       "      <td>0.545455</td>\n",
       "      <td>0.379585</td>\n",
       "      <td>34.385399</td>\n",
       "    </tr>\n",
       "    <tr>\n",
       "      <th>std</th>\n",
       "      <td>12.511818</td>\n",
       "      <td>1.151090</td>\n",
       "      <td>0.792999</td>\n",
       "      <td>54.597730</td>\n",
       "    </tr>\n",
       "    <tr>\n",
       "      <th>min</th>\n",
       "      <td>0.750000</td>\n",
       "      <td>0.000000</td>\n",
       "      <td>0.000000</td>\n",
       "      <td>0.000000</td>\n",
       "    </tr>\n",
       "    <tr>\n",
       "      <th>25%</th>\n",
       "      <td>23.000000</td>\n",
       "      <td>0.000000</td>\n",
       "      <td>0.000000</td>\n",
       "      <td>7.895800</td>\n",
       "    </tr>\n",
       "    <tr>\n",
       "      <th>50%</th>\n",
       "      <td>28.000000</td>\n",
       "      <td>0.000000</td>\n",
       "      <td>0.000000</td>\n",
       "      <td>15.045800</td>\n",
       "    </tr>\n",
       "    <tr>\n",
       "      <th>75%</th>\n",
       "      <td>35.000000</td>\n",
       "      <td>1.000000</td>\n",
       "      <td>0.000000</td>\n",
       "      <td>31.387500</td>\n",
       "    </tr>\n",
       "    <tr>\n",
       "      <th>max</th>\n",
       "      <td>80.000000</td>\n",
       "      <td>8.000000</td>\n",
       "      <td>5.000000</td>\n",
       "      <td>512.329200</td>\n",
       "    </tr>\n",
       "  </tbody>\n",
       "</table>\n",
       "</div>"
      ],
      "text/plain": [
       "              age  n_siblings_spouses       parch        fare\n",
       "count  627.000000          627.000000  627.000000  627.000000\n",
       "mean    29.631308            0.545455    0.379585   34.385399\n",
       "std     12.511818            1.151090    0.792999   54.597730\n",
       "min      0.750000            0.000000    0.000000    0.000000\n",
       "25%     23.000000            0.000000    0.000000    7.895800\n",
       "50%     28.000000            0.000000    0.000000   15.045800\n",
       "75%     35.000000            1.000000    0.000000   31.387500\n",
       "max     80.000000            8.000000    5.000000  512.329200"
      ]
     },
     "execution_count": 45,
     "metadata": {},
     "output_type": "execute_result"
    }
   ],
   "source": [
    "desc = pd.read_csv(train_file_path)[NUMERIC_FEATURES].describe()\n",
    "desc"
   ]
  },
  {
   "cell_type": "markdown",
   "metadata": {},
   "source": [
    "normalizing nnumerical data "
   ]
  },
  {
   "cell_type": "code",
   "execution_count": 46,
   "metadata": {},
   "outputs": [],
   "source": [
    "MEAN = np.array(desc.T[\"mean\"])\n",
    "STD = np.array(desc.T[\"std\"])"
   ]
  },
  {
   "cell_type": "markdown",
   "metadata": {},
   "source": [
    "Old method \n",
    "\n",
    "```py\n",
    "def normalize_numeric_data(data, mean, std) : \n",
    "    return (data - mean)/std\n",
    "\n",
    "normalizer = functools.partial(normalize_numeric_data, MEAN, STD)\n",
    "\n",
    "numeric_column = tf.feature_column.numeric_column(\n",
    "    \"numeric\", normalizer_fn=normalizer, shape=[len(NUMERIC_FEATURES)]\n",
    ")\n",
    "numeric_columns = [numeric_column]\n",
    "numeric_columns\n",
    "\n",
    "numeric_layer = tf.keras.layers.DenseFeatures(numeric_columns)\n",
    "numeric_layer(example_batch).numpy()\n",
    "```"
   ]
  },
  {
   "cell_type": "code",
   "execution_count": 47,
   "metadata": {},
   "outputs": [
    {
     "data": {
      "text/plain": [
       "array([[20.   ,  0.   ,  0.   ,  9.846],\n",
       "       [28.   ,  0.   ,  0.   ,  6.95 ],\n",
       "       [47.   ,  0.   ,  0.   , 25.587],\n",
       "       [30.   ,  1.   ,  0.   , 24.   ],\n",
       "       [28.   ,  0.   ,  0.   ,  7.896]], dtype=float32)"
      ]
     },
     "execution_count": 47,
     "metadata": {},
     "output_type": "execute_result"
    }
   ],
   "source": [
    "example_batch, labels_batch = next(iter(packed_train_data))\n",
    "example_batch['numeric'].numpy()"
   ]
  },
  {
   "cell_type": "code",
   "execution_count": 48,
   "metadata": {},
   "outputs": [
    {
     "data": {
      "text/plain": [
       "<tf.Tensor: shape=(5, 4), dtype=float32, numpy=\n",
       "array([[-0.77 , -0.474, -0.479, -0.449],\n",
       "       [-0.13 , -0.474, -0.479, -0.503],\n",
       "       [ 1.388, -0.474, -0.479, -0.161],\n",
       "       [ 0.029,  0.395, -0.479, -0.19 ],\n",
       "       [-0.13 , -0.474, -0.479, -0.485]], dtype=float32)>"
      ]
     },
     "execution_count": 48,
     "metadata": {},
     "output_type": "execute_result"
    }
   ],
   "source": [
    "numeric_layer = tf.keras.layers.Normalization(axis = -1, mean = MEAN, variance=STD**2)\n",
    "numeric_layer(example_batch['numeric'].numpy())"
   ]
  },
  {
   "cell_type": "markdown",
   "metadata": {},
   "source": [
    "Categorical data "
   ]
  },
  {
   "cell_type": "code",
   "execution_count": 49,
   "metadata": {},
   "outputs": [],
   "source": [
    "CATEGORIES = {\n",
    "    'sex' : [\"male\", \"female\"], \n",
    "    \"class\" : [\"First\", \"Second\", \"Third\"], \n",
    "    \"deck\" : [chr(i) for i in range(65, 75)], \n",
    "    \"embark_town\" : [\"Cherbourg\", \"Southhampton\", \"Queenstown\"], \n",
    "    \"alone\" : ['y', 'n']\n",
    "}"
   ]
  },
  {
   "cell_type": "code",
   "execution_count": 50,
   "metadata": {},
   "outputs": [
    {
     "data": {
      "text/plain": [
       "[IndicatorColumn(categorical_column=VocabularyListCategoricalColumn(key='sex', vocabulary_list=('male', 'female'), dtype=tf.string, default_value=-1, num_oov_buckets=0)),\n",
       " IndicatorColumn(categorical_column=VocabularyListCategoricalColumn(key='class', vocabulary_list=('First', 'Second', 'Third'), dtype=tf.string, default_value=-1, num_oov_buckets=0)),\n",
       " IndicatorColumn(categorical_column=VocabularyListCategoricalColumn(key='deck', vocabulary_list=('A', 'B', 'C', 'D', 'E', 'F', 'G', 'H', 'I', 'J'), dtype=tf.string, default_value=-1, num_oov_buckets=0)),\n",
       " IndicatorColumn(categorical_column=VocabularyListCategoricalColumn(key='embark_town', vocabulary_list=('Cherbourg', 'Southhampton', 'Queenstown'), dtype=tf.string, default_value=-1, num_oov_buckets=0)),\n",
       " IndicatorColumn(categorical_column=VocabularyListCategoricalColumn(key='alone', vocabulary_list=('y', 'n'), dtype=tf.string, default_value=-1, num_oov_buckets=0))]"
      ]
     },
     "execution_count": 50,
     "metadata": {},
     "output_type": "execute_result"
    }
   ],
   "source": [
    "categorical_columns = []\n",
    "for feature, vocab in CATEGORIES.items() : \n",
    "    cat_col = tf.feature_column.categorical_column_with_vocabulary_list(\n",
    "        key = feature, vocabulary_list = vocab\n",
    "    )\n",
    "    categorical_columns.append(tf.feature_column.indicator_column(cat_col))\n",
    "\n",
    "categorical_columns # indicator columns have been created "
   ]
  },
  {
   "cell_type": "code",
   "execution_count": null,
   "metadata": {},
   "outputs": [],
   "source": []
  }
 ],
 "metadata": {
  "kernelspec": {
   "display_name": "Python 3",
   "language": "python",
   "name": "python3"
  },
  "language_info": {
   "codemirror_mode": {
    "name": "ipython",
    "version": 3
   },
   "file_extension": ".py",
   "mimetype": "text/x-python",
   "name": "python",
   "nbconvert_exporter": "python",
   "pygments_lexer": "ipython3",
   "version": "3.12.0"
  }
 },
 "nbformat": 4,
 "nbformat_minor": 2
}
