{
 "cells": [
  {
   "cell_type": "code",
   "execution_count": 20,
   "metadata": {},
   "outputs": [],
   "source": [
    "import numpy as np \n",
    "import tensorflow as tf\n",
    "import matplotlib.pyplot as plt \n",
    "\n",
    "from __future__ import absolute_import, division, print_function, unicode_literals"
   ]
  },
  {
   "cell_type": "markdown",
   "metadata": {},
   "source": [
    "**scalers (0D tensor)**"
   ]
  },
  {
   "cell_type": "code",
   "execution_count": 4,
   "metadata": {},
   "outputs": [
    {
     "data": {
      "text/plain": [
       "((), array(10), 0, dtype('int32'))"
      ]
     },
     "execution_count": 4,
     "metadata": {},
     "output_type": "execute_result"
    }
   ],
   "source": [
    "x = np.array(10)\n",
    "x.shape, x, x.ndim, x.dtype"
   ]
  },
  {
   "cell_type": "markdown",
   "metadata": {},
   "source": [
    "**vectors (1D tensor)**"
   ]
  },
  {
   "cell_type": "code",
   "execution_count": 5,
   "metadata": {},
   "outputs": [
    {
     "data": {
      "text/plain": [
       "((4,), array([4, 2, 5, 9]), 1, dtype('int32'))"
      ]
     },
     "execution_count": 5,
     "metadata": {},
     "output_type": "execute_result"
    }
   ],
   "source": [
    "x = np.array([4, 2, 5, 9])\n",
    "x.shape, x, x.ndim, x.dtype"
   ]
  },
  {
   "cell_type": "markdown",
   "metadata": {},
   "source": [
    "**Matrices (2D tensor)**"
   ]
  },
  {
   "cell_type": "code",
   "execution_count": 6,
   "metadata": {},
   "outputs": [
    {
     "data": {
      "text/plain": [
       "((3, 3),\n",
       " array([[1, 2, 3],\n",
       "        [2, 3, 4],\n",
       "        [3, 4, 5]]),\n",
       " 2,\n",
       " dtype('int32'))"
      ]
     },
     "execution_count": 6,
     "metadata": {},
     "output_type": "execute_result"
    }
   ],
   "source": [
    "x = np.array([[1, 2, 3], [2, 3, 4], [3, 4, 5]])\n",
    "x.shape, x, x.ndim, x.dtype"
   ]
  },
  {
   "cell_type": "markdown",
   "metadata": {},
   "source": [
    "**3D tensor**\n",
    "\n",
    "we can pack tensors of n-1 dim in a new array to get a tensor of n dim"
   ]
  },
  {
   "cell_type": "code",
   "execution_count": 9,
   "metadata": {},
   "outputs": [
    {
     "data": {
      "text/plain": [
       "((3, 3, 3),\n",
       " array([[[1, 2, 3],\n",
       "         [2, 3, 4],\n",
       "         [3, 4, 5]],\n",
       " \n",
       "        [[1, 2, 3],\n",
       "         [2, 3, 4],\n",
       "         [3, 4, 5]],\n",
       " \n",
       "        [[1, 2, 3],\n",
       "         [2, 3, 4],\n",
       "         [3, 4, 5]]]),\n",
       " 3,\n",
       " dtype('int32'))"
      ]
     },
     "execution_count": 9,
     "metadata": {},
     "output_type": "execute_result"
    }
   ],
   "source": [
    "x = np.array([[[1, 2, 3], [2, 3, 4], [3, 4, 5]], [[1, 2, 3], [2, 3, 4], [3, 4, 5]], [[1, 2, 3], [2, 3, 4], [3, 4, 5]]])\n",
    "x.shape, x, x.ndim, x.dtype"
   ]
  },
  {
   "cell_type": "markdown",
   "metadata": {},
   "source": [
    "### Tensorflow \n",
    "\n",
    "| Tensor | Example               | Shape                             | Dataset        |\n",
    "|--------|-----------------------|------------------------------------|----------------|\n",
    "| 2D     | Vector                | (samples, features)                | Text Documents |\n",
    "| 3D     | Time series or Sequence| (samples, timesteps, features)     | Stock Prices   |\n",
    "| 4D     | Images                | (samples, channels, height, width) | MNIST Digit    |\n",
    "| 5D     | Videos                | (samples, frames, channels, height, widths) | Test Videos  |\n"
   ]
  },
  {
   "cell_type": "code",
   "execution_count": 11,
   "metadata": {},
   "outputs": [],
   "source": [
    "mnist = tf.keras.datasets.mnist \n",
    "\n",
    "(X_train, y_train), (X_test, y_test) = mnist.load_data()\n",
    "X_train, X_test = X_train / 255.0, X_test/255.0"
   ]
  },
  {
   "cell_type": "code",
   "execution_count": 36,
   "metadata": {},
   "outputs": [
    {
     "name": "stdout",
     "output_type": "stream",
     "text": [
      "attribute of training data tensor\n",
      "===================================\n",
      "num of axes in tensor :  3\n",
      "shape of tensor :  (60000, 28, 28)\n",
      "data type of tensor :  float64\n",
      "\n"
     ]
    }
   ],
   "source": [
    "def show_attribute(tensor) :\n",
    "    print(\"attribute of training data tensor\")\n",
    "    print(\"=\"*35)\n",
    "    print(\"num of axes in tensor : \", tensor.ndim)\n",
    "    print(\"shape of tensor : \", tensor.shape)\n",
    "    print(\"data type of tensor : \", tensor.dtype)\n",
    "    print(\"\")\n",
    "\n",
    "show_attribute(X_train)"
   ]
  },
  {
   "cell_type": "code",
   "execution_count": 37,
   "metadata": {},
   "outputs": [
    {
     "name": "stdout",
     "output_type": "stream",
     "text": [
      "attribute of training data tensor\n",
      "===================================\n",
      "num of axes in tensor :  1\n",
      "shape of tensor :  (60000,)\n",
      "data type of tensor :  uint8\n",
      "\n"
     ]
    }
   ],
   "source": [
    "show_attribute(y_train)"
   ]
  },
  {
   "cell_type": "code",
   "execution_count": 38,
   "metadata": {},
   "outputs": [
    {
     "data": {
      "image/png": "[encoded data removed]",
      "text/plain": [
       "<Figure size 640x480 with 1 Axes>"
      ]
     },
     "metadata": {},
     "output_type": "display_data"
    }
   ],
   "source": [
    "def display_image(img) : \n",
    "    plt.imshow(img, cmap = plt.cm.binary)\n",
    "    plt.show()\n",
    "\n",
    "x_1 = X_train[0]\n",
    "display_image(x_1)"
   ]
  },
  {
   "cell_type": "code",
   "execution_count": 39,
   "metadata": {},
   "outputs": [
    {
     "name": "stdout",
     "output_type": "stream",
     "text": [
      "attribute of training data tensor\n",
      "===================================\n",
      "num of axes in tensor :  3\n",
      "shape of tensor :  (90, 28, 28)\n",
      "data type of tensor :  float64\n",
      "\n"
     ]
    }
   ],
   "source": [
    "x_train_slice = X_train[10:100] # == X_train[10:100, :, :] == X_train[10:100, 0:28, 0:28] \n",
    "\n",
    "show_attribute(x_train_slice)"
   ]
  },
  {
   "cell_type": "code",
   "execution_count": 40,
   "metadata": {},
   "outputs": [
    {
     "name": "stdout",
     "output_type": "stream",
     "text": [
      "attribute of training data tensor\n",
      "===================================\n",
      "num of axes in tensor :  3\n",
      "shape of tensor :  (60000, 14, 14)\n",
      "data type of tensor :  float64\n",
      "\n"
     ]
    },
    {
     "data": {
      "image/png": "[encoded data removed]",
      "text/plain": [
       "<Figure size 640x480 with 1 Axes>"
      ]
     },
     "metadata": {},
     "output_type": "display_data"
    }
   ],
   "source": [
    "# bottom right patch \n",
    "x_train_slice = X_train[:, 14:, 14:] \n",
    "show_attribute(x_train_slice)\n",
    "display_image(x_train_slice[0])"
   ]
  },
  {
   "cell_type": "code",
   "execution_count": 41,
   "metadata": {},
   "outputs": [
    {
     "name": "stdout",
     "output_type": "stream",
     "text": [
      "attribute of training data tensor\n",
      "===================================\n",
      "num of axes in tensor :  3\n",
      "shape of tensor :  (60000, 14, 14)\n",
      "data type of tensor :  float64\n",
      "\n"
     ]
    },
    {
     "data": {
      "image/png": "[encoded data removed]",
      "text/plain": [
       "<Figure size 640x480 with 1 Axes>"
      ]
     },
     "metadata": {},
     "output_type": "display_data"
    }
   ],
   "source": [
    "# center patch \n",
    "x_train_slice = X_train[:, 7:-7, 7:-7] \n",
    "show_attribute(x_train_slice)\n",
    "display_image(x_train_slice[0])"
   ]
  },
  {
   "cell_type": "markdown",
   "metadata": {},
   "source": [
    "#### Data Batches "
   ]
  },
  {
   "cell_type": "code",
   "execution_count": 42,
   "metadata": {},
   "outputs": [
    {
     "name": "stdout",
     "output_type": "stream",
     "text": [
      "attribute of training data tensor\n",
      "===================================\n",
      "num of axes in tensor :  3\n",
      "shape of tensor :  (128, 28, 28)\n",
      "data type of tensor :  float64\n",
      "\n",
      "attribute of training data tensor\n",
      "===================================\n",
      "num of axes in tensor :  3\n",
      "shape of tensor :  (128, 28, 28)\n",
      "data type of tensor :  float64\n",
      "\n"
     ]
    }
   ],
   "source": [
    "batch_1 = X_train[:128]\n",
    "show_attribute(batch_1)\n",
    "batch_2 = X_train[128:256]\n",
    "show_attribute(batch_2)"
   ]
  },
  {
   "cell_type": "code",
   "execution_count": null,
   "metadata": {},
   "outputs": [],
   "source": []
  }
 ],
 "metadata": {
  "kernelspec": {
   "display_name": "Python 3",
   "language": "python",
   "name": "python3"
  },
  "language_info": {
   "codemirror_mode": {
    "name": "ipython",
    "version": 3
   },
   "file_extension": ".py",
   "mimetype": "text/x-python",
   "name": "python",
   "nbconvert_exporter": "python",
   "pygments_lexer": "ipython3",
   "version": "3.12.0"
  }
 },
 "nbformat": 4,
 "nbformat_minor": 2
}
