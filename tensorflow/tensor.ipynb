{
 "cells": [
  {
   "cell_type": "code",
   "execution_count": 53,
   "metadata": {},
   "outputs": [],
   "source": [
    "import numpy as np \n",
    "import tensorflow as tf\n",
    "import matplotlib.pyplot as plt \n",
    "import math \n",
    "\n",
    "from __future__ import absolute_import, division, print_function, unicode_literals"
   ]
  },
  {
   "cell_type": "markdown",
   "metadata": {},
   "source": [
    "**scalers (0D tensor)**"
   ]
  },
  {
   "cell_type": "code",
   "execution_count": 4,
   "metadata": {},
   "outputs": [
    {
     "data": {
      "text/plain": [
       "((), array(10), 0, dtype('int32'))"
      ]
     },
     "execution_count": 4,
     "metadata": {},
     "output_type": "execute_result"
    }
   ],
   "source": [
    "x = np.array(10)\n",
    "x.shape, x, x.ndim, x.dtype"
   ]
  },
  {
   "cell_type": "markdown",
   "metadata": {},
   "source": [
    "**vectors (1D tensor)**"
   ]
  },
  {
   "cell_type": "code",
   "execution_count": 5,
   "metadata": {},
   "outputs": [
    {
     "data": {
      "text/plain": [
       "((4,), array([4, 2, 5, 9]), 1, dtype('int32'))"
      ]
     },
     "execution_count": 5,
     "metadata": {},
     "output_type": "execute_result"
    }
   ],
   "source": [
    "x = np.array([4, 2, 5, 9])\n",
    "x.shape, x, x.ndim, x.dtype"
   ]
  },
  {
   "cell_type": "markdown",
   "metadata": {},
   "source": [
    "**Matrices (2D tensor)**"
   ]
  },
  {
   "cell_type": "code",
   "execution_count": 6,
   "metadata": {},
   "outputs": [
    {
     "data": {
      "text/plain": [
       "((3, 3),\n",
       " array([[1, 2, 3],\n",
       "        [2, 3, 4],\n",
       "        [3, 4, 5]]),\n",
       " 2,\n",
       " dtype('int32'))"
      ]
     },
     "execution_count": 6,
     "metadata": {},
     "output_type": "execute_result"
    }
   ],
   "source": [
    "x = np.array([[1, 2, 3], [2, 3, 4], [3, 4, 5]])\n",
    "x.shape, x, x.ndim, x.dtype"
   ]
  },
  {
   "cell_type": "markdown",
   "metadata": {},
   "source": [
    "**3D tensor**\n",
    "\n",
    "we can pack tensors of n-1 dim in a new array to get a tensor of n dim"
   ]
  },
  {
   "cell_type": "code",
   "execution_count": 9,
   "metadata": {},
   "outputs": [
    {
     "data": {
      "text/plain": [
       "((3, 3, 3),\n",
       " array([[[1, 2, 3],\n",
       "         [2, 3, 4],\n",
       "         [3, 4, 5]],\n",
       " \n",
       "        [[1, 2, 3],\n",
       "         [2, 3, 4],\n",
       "         [3, 4, 5]],\n",
       " \n",
       "        [[1, 2, 3],\n",
       "         [2, 3, 4],\n",
       "         [3, 4, 5]]]),\n",
       " 3,\n",
       " dtype('int32'))"
      ]
     },
     "execution_count": 9,
     "metadata": {},
     "output_type": "execute_result"
    }
   ],
   "source": [
    "x = np.array([[[1, 2, 3], [2, 3, 4], [3, 4, 5]], [[1, 2, 3], [2, 3, 4], [3, 4, 5]], [[1, 2, 3], [2, 3, 4], [3, 4, 5]]])\n",
    "x.shape, x, x.ndim, x.dtype"
   ]
  },
  {
   "cell_type": "markdown",
   "metadata": {},
   "source": [
    "### Tensorflow \n",
    "\n",
    "| Tensor | Example               | Shape                             | Dataset        |\n",
    "|--------|-----------------------|------------------------------------|----------------|\n",
    "| 2D     | Vector                | (samples, features)                | Text Documents |\n",
    "| 3D     | Time series or Sequence| (samples, timesteps, features)     | Stock Prices   |\n",
    "| 4D     | Images                | (samples, channels, height, width) | MNIST Digit    |\n",
    "| 5D     | Videos                | (samples, frames, channels, height, widths) | Test Videos  |\n"
   ]
  },
  {
   "cell_type": "code",
   "execution_count": 11,
   "metadata": {},
   "outputs": [],
   "source": [
    "mnist = tf.keras.datasets.mnist \n",
    "\n",
    "(X_train, y_train), (X_test, y_test) = mnist.load_data()\n",
    "X_train, X_test = X_train / 255.0, X_test/255.0"
   ]
  },
  {
   "cell_type": "code",
   "execution_count": 63,
   "metadata": {},
   "outputs": [
    {
     "name": "stdout",
     "output_type": "stream",
     "text": [
      "attribute of the given tensor\n",
      "===================================\n",
      "num of axes in tensor :  3\n",
      "shape of tensor :  (60000, 28, 28)\n",
      "data type of tensor :  float64\n",
      "\n"
     ]
    }
   ],
   "source": [
    "def show_attribute(tensor) :\n",
    "    print(\"attribute of the given tensor\")\n",
    "    print(\"=\"*35)\n",
    "    print(\"num of axes in tensor : \", tensor.ndim)\n",
    "    print(\"shape of tensor : \", tensor.shape)\n",
    "    print(\"data type of tensor : \", tensor.dtype)\n",
    "    print(\"\")\n",
    "\n",
    "show_attribute(X_train)"
   ]
  },
  {
   "cell_type": "code",
   "execution_count": 64,
   "metadata": {},
   "outputs": [
    {
     "name": "stdout",
     "output_type": "stream",
     "text": [
      "attribute of the given tensor\n",
      "===================================\n",
      "num of axes in tensor :  1\n",
      "shape of tensor :  (60000,)\n",
      "data type of tensor :  uint8\n",
      "\n"
     ]
    }
   ],
   "source": [
    "show_attribute(y_train)"
   ]
  },
  {
   "cell_type": "code",
   "execution_count": 65,
   "metadata": {},
   "outputs": [
    {
     "data": {
      "image/png": "[encoded data removed]",
      "text/plain": [
       "<Figure size 640x480 with 1 Axes>"
      ]
     },
     "metadata": {},
     "output_type": "display_data"
    }
   ],
   "source": [
    "def display_image(img) : \n",
    "    plt.imshow(img, cmap = plt.cm.binary)\n",
    "    plt.show()\n",
    "\n",
    "x_1 = X_train[0]\n",
    "display_image(x_1)"
   ]
  },
  {
   "cell_type": "code",
   "execution_count": 66,
   "metadata": {},
   "outputs": [
    {
     "name": "stdout",
     "output_type": "stream",
     "text": [
      "attribute of the given tensor\n",
      "===================================\n",
      "num of axes in tensor :  3\n",
      "shape of tensor :  (90, 28, 28)\n",
      "data type of tensor :  float64\n",
      "\n"
     ]
    }
   ],
   "source": [
    "x_train_slice = X_train[10:100] # == X_train[10:100, :, :] == X_train[10:100, 0:28, 0:28] \n",
    "\n",
    "show_attribute(x_train_slice)"
   ]
  },
  {
   "cell_type": "code",
   "execution_count": 67,
   "metadata": {},
   "outputs": [
    {
     "name": "stdout",
     "output_type": "stream",
     "text": [
      "attribute of the given tensor\n",
      "===================================\n",
      "num of axes in tensor :  3\n",
      "shape of tensor :  (60000, 14, 14)\n",
      "data type of tensor :  float64\n",
      "\n"
     ]
    },
    {
     "data": {
      "image/png": "[encoded data removed]",
      "text/plain": [
       "<Figure size 640x480 with 1 Axes>"
      ]
     },
     "metadata": {},
     "output_type": "display_data"
    }
   ],
   "source": [
    "# bottom right patch \n",
    "x_train_slice = X_train[:, 14:, 14:] \n",
    "show_attribute(x_train_slice)\n",
    "display_image(x_train_slice[0])"
   ]
  },
  {
   "cell_type": "code",
   "execution_count": 68,
   "metadata": {},
   "outputs": [
    {
     "name": "stdout",
     "output_type": "stream",
     "text": [
      "attribute of the given tensor\n",
      "===================================\n",
      "num of axes in tensor :  3\n",
      "shape of tensor :  (60000, 14, 14)\n",
      "data type of tensor :  float64\n",
      "\n"
     ]
    },
    {
     "data": {
      "image/png": "[encoded data removed]",
      "text/plain": [
       "<Figure size 640x480 with 1 Axes>"
      ]
     },
     "metadata": {},
     "output_type": "display_data"
    }
   ],
   "source": [
    "# center patch \n",
    "x_train_slice = X_train[:, 7:-7, 7:-7] \n",
    "show_attribute(x_train_slice)\n",
    "display_image(x_train_slice[0])"
   ]
  },
  {
   "cell_type": "markdown",
   "metadata": {},
   "source": [
    "#### Data Batches "
   ]
  },
  {
   "cell_type": "code",
   "execution_count": 69,
   "metadata": {},
   "outputs": [
    {
     "name": "stdout",
     "output_type": "stream",
     "text": [
      "attribute of the given tensor\n",
      "===================================\n",
      "num of axes in tensor :  3\n",
      "shape of tensor :  (128, 28, 28)\n",
      "data type of tensor :  float64\n",
      "\n",
      "attribute of the given tensor\n",
      "===================================\n",
      "num of axes in tensor :  3\n",
      "shape of tensor :  (128, 28, 28)\n",
      "data type of tensor :  float64\n",
      "\n"
     ]
    }
   ],
   "source": [
    "batch_1 = X_train[:128]\n",
    "show_attribute(batch_1)\n",
    "batch_2 = X_train[128:256]\n",
    "show_attribute(batch_2)"
   ]
  },
  {
   "cell_type": "markdown",
   "metadata": {},
   "source": [
    "### Maths "
   ]
  },
  {
   "cell_type": "code",
   "execution_count": 70,
   "metadata": {},
   "outputs": [
    {
     "name": "stdout",
     "output_type": "stream",
     "text": [
      "attribute of the given tensor\n",
      "===================================\n",
      "num of axes in tensor :  2\n",
      "shape of tensor :  (2, 2)\n",
      "data type of tensor :  float64\n",
      "\n",
      "attribute of the given tensor\n",
      "===================================\n",
      "num of axes in tensor :  2\n",
      "shape of tensor :  (2, 2)\n",
      "data type of tensor :  int32\n",
      "\n",
      "attribute of the given tensor\n",
      "===================================\n",
      "num of axes in tensor :  1\n",
      "shape of tensor :  (2,)\n",
      "data type of tensor :  float64\n",
      "\n"
     ]
    }
   ],
   "source": [
    "w = np.array([[1, 0.5], [2, 1]])\n",
    "show_attribute(w)\n",
    "input_vector = np.array([[1, 2], [-1, 2]])\n",
    "show_attribute(input_vector)\n",
    "bias = np.array([-2.0, 0.5])\n",
    "show_attribute(bias)"
   ]
  },
  {
   "cell_type": "code",
   "execution_count": 71,
   "metadata": {},
   "outputs": [
    {
     "name": "stdout",
     "output_type": "stream",
     "text": [
      "attribute of the given tensor\n",
      "===================================\n",
      "num of axes in tensor :  2\n",
      "shape of tensor :  (2, 2)\n",
      "data type of tensor :  float64\n",
      "\n"
     ]
    },
    {
     "data": {
      "text/plain": [
       "array([[-1.5,  3.5],\n",
       "       [-1. ,  6.5]])"
      ]
     },
     "execution_count": 71,
     "metadata": {},
     "output_type": "execute_result"
    }
   ],
   "source": [
    "z = np.dot(w, input_vector) + bias\n",
    "show_attribute(z)\n",
    "z"
   ]
  },
  {
   "cell_type": "markdown",
   "metadata": {},
   "source": [
    "#### ReLu"
   ]
  },
  {
   "cell_type": "code",
   "execution_count": 72,
   "metadata": {},
   "outputs": [
    {
     "name": "stdout",
     "output_type": "stream",
     "text": [
      "attribute of the given tensor\n",
      "===================================\n",
      "num of axes in tensor :  2\n",
      "shape of tensor :  (2, 2)\n",
      "data type of tensor :  float64\n",
      "\n",
      "[[0.  3.5]\n",
      " [0.  6.5]]\n"
     ]
    }
   ],
   "source": [
    "output = np.maximum(0., z)\n",
    "show_attribute(output)\n",
    "print(output)"
   ]
  },
  {
   "cell_type": "code",
   "execution_count": 73,
   "metadata": {},
   "outputs": [
    {
     "data": {
      "image/png": "[encoded data removed]",
      "text/plain": [
       "<Figure size 640x480 with 1 Axes>"
      ]
     },
     "metadata": {},
     "output_type": "display_data"
    }
   ],
   "source": [
    "x = np.linspace(-10, 10, 100)\n",
    "z = np.maximum(0., x)\n",
    "plt.plot(x, z)\n",
    "plt.xlabel('x')\n",
    "plt.ylabel('relu(x)')\n",
    "plt.title(\"ReLu\");"
   ]
  },
  {
   "cell_type": "markdown",
   "metadata": {},
   "source": [
    "#### Sigmoid "
   ]
  },
  {
   "cell_type": "code",
   "execution_count": 74,
   "metadata": {},
   "outputs": [
    {
     "data": {
      "image/png": "[encoded data removed]",
      "text/plain": [
       "<Figure size 640x480 with 1 Axes>"
      ]
     },
     "metadata": {},
     "output_type": "display_data"
    }
   ],
   "source": [
    "x = np.linspace(-10, 10, 100)\n",
    "z = 1/(1+np.exp(-x))\n",
    "plt.plot(x, z)\n",
    "plt.xlabel('x')\n",
    "plt.ylabel('relu(x)')\n",
    "plt.title(\"Sigmoid\");"
   ]
  },
  {
   "cell_type": "code",
   "execution_count": 75,
   "metadata": {},
   "outputs": [
    {
     "data": {
      "image/png": "[encoded data removed]",
      "text/plain": [
       "<Figure size 640x480 with 1 Axes>"
      ]
     },
     "metadata": {},
     "output_type": "display_data"
    }
   ],
   "source": [
    "x = np.linspace(-10, 10, 100)\n",
    "z = (np.exp(x) - np.exp(-x))/(np.exp(x) + np.exp(-x))\n",
    "plt.plot(x, z)\n",
    "plt.xlabel('x')\n",
    "plt.ylabel('relu(x)')\n",
    "plt.title(\"Tanh\");"
   ]
  },
  {
   "cell_type": "markdown",
   "metadata": {},
   "source": [
    "#### Broadcasting\n",
    "1. Axes are added to smaller tensor to match the dim of larger tensor. These axes are called broadcast axes. \n",
    "2. The smaller tensor is repeated alongside these new axes to match the full shape of the larger tensor."
   ]
  },
  {
   "cell_type": "code",
   "execution_count": 79,
   "metadata": {},
   "outputs": [
    {
     "name": "stdout",
     "output_type": "stream",
     "text": [
      "attribute of the given tensor\n",
      "===================================\n",
      "num of axes in tensor :  2\n",
      "shape of tensor :  (32, 10)\n",
      "data type of tensor :  float64\n",
      "\n",
      "attribute of the given tensor\n",
      "===================================\n",
      "num of axes in tensor :  1\n",
      "shape of tensor :  (10,)\n",
      "data type of tensor :  float64\n",
      "\n"
     ]
    }
   ],
   "source": [
    "x_1 = np.random.randn(32, 10)\n",
    "show_attribute(x_1)\n",
    "x_2 = np.random.randn(10,)\n",
    "show_attribute(x_2)"
   ]
  },
  {
   "cell_type": "code",
   "execution_count": 80,
   "metadata": {},
   "outputs": [
    {
     "name": "stdout",
     "output_type": "stream",
     "text": [
      "attribute of the given tensor\n",
      "===================================\n",
      "num of axes in tensor :  2\n",
      "shape of tensor :  (1, 10)\n",
      "data type of tensor :  float64\n",
      "\n",
      "attribute of the given tensor\n",
      "===================================\n",
      "num of axes in tensor :  2\n",
      "shape of tensor :  (32, 10)\n",
      "data type of tensor :  float64\n",
      "\n"
     ]
    }
   ],
   "source": [
    "x_2 = np.expand_dims(x_2, axis=0)\n",
    "show_attribute(x_2)\n",
    "x_2 = np.repeat(x_2, 32, axis=0)\n",
    "show_attribute(x_2)"
   ]
  },
  {
   "cell_type": "markdown",
   "metadata": {},
   "source": [
    "numpy does this broadcasting automatically"
   ]
  },
  {
   "cell_type": "code",
   "execution_count": 81,
   "metadata": {},
   "outputs": [
    {
     "name": "stdout",
     "output_type": "stream",
     "text": [
      "(32, 10)\n"
     ]
    }
   ],
   "source": [
    "x_1 = np.random.randn(32, 10) \n",
    "x_2 = np.random.randn(10,)\n",
    "print((x_1 + x_2).shape)"
   ]
  },
  {
   "cell_type": "markdown",
   "metadata": {},
   "source": [
    "#### Reshaping"
   ]
  },
  {
   "cell_type": "code",
   "execution_count": 85,
   "metadata": {},
   "outputs": [
    {
     "name": "stdout",
     "output_type": "stream",
     "text": [
      "attribute of the given tensor\n",
      "===================================\n",
      "num of axes in tensor :  2\n",
      "shape of tensor :  (3, 2)\n",
      "data type of tensor :  int32\n",
      "\n",
      "[[0 1]\n",
      " [2 3]\n",
      " [4 5]]\n",
      "attribute of the given tensor\n",
      "===================================\n",
      "num of axes in tensor :  2\n",
      "shape of tensor :  (6, 1)\n",
      "data type of tensor :  int32\n",
      "\n",
      "[[0]\n",
      " [1]\n",
      " [2]\n",
      " [3]\n",
      " [4]\n",
      " [5]]\n"
     ]
    }
   ],
   "source": [
    "x = np.array([[0, 1], [2, 3], [4, 5]])\n",
    "show_attribute(x)\n",
    "print(x)\n",
    "x = x.reshape((6, 1))\n",
    "show_attribute(x)\n",
    "print(x)"
   ]
  },
  {
   "cell_type": "code",
   "execution_count": 89,
   "metadata": {},
   "outputs": [
    {
     "name": "stdout",
     "output_type": "stream",
     "text": [
      "attribute of the given tensor\n",
      "===================================\n",
      "num of axes in tensor :  2\n",
      "shape of tensor :  (200, 20)\n",
      "data type of tensor :  float64\n",
      "\n",
      "[[0. 0. 0. ... 0. 0. 0.]\n",
      " [0. 0. 0. ... 0. 0. 0.]\n",
      " [0. 0. 0. ... 0. 0. 0.]\n",
      " ...\n",
      " [0. 0. 0. ... 0. 0. 0.]\n",
      " [0. 0. 0. ... 0. 0. 0.]\n",
      " [0. 0. 0. ... 0. 0. 0.]]\n",
      "attribute of the given tensor\n",
      "===================================\n",
      "num of axes in tensor :  2\n",
      "shape of tensor :  (20, 200)\n",
      "data type of tensor :  float64\n",
      "\n"
     ]
    }
   ],
   "source": [
    "x = np.zeros((200, 20))\n",
    "show_attribute(x)\n",
    "print(x)\n",
    "x = np.transpose(x)\n",
    "show_attribute(x)"
   ]
  },
  {
   "cell_type": "code",
   "execution_count": null,
   "metadata": {},
   "outputs": [],
   "source": []
  }
 ],
 "metadata": {
  "kernelspec": {
   "display_name": "Python 3",
   "language": "python",
   "name": "python3"
  },
  "language_info": {
   "codemirror_mode": {
    "name": "ipython",
    "version": 3
   },
   "file_extension": ".py",
   "mimetype": "text/x-python",
   "name": "python",
   "nbconvert_exporter": "python",
   "pygments_lexer": "ipython3",
   "version": "3.12.0"
  }
 },
 "nbformat": 4,
 "nbformat_minor": 2
}
