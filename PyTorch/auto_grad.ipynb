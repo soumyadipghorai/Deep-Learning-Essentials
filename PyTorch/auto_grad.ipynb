{
 "cells": [
  {
   "cell_type": "code",
   "execution_count": 355,
   "metadata": {},
   "outputs": [],
   "source": [
    "import torch\n",
    "import torch.nn as nn \n",
    "import torch.nn.functional as F \n",
    "from torch import tensor \n",
    "import numpy as np\n",
    "import matplotlib.pyplot as plt\n",
    "\n",
    "torch.set_warn_always(False)"
   ]
  },
  {
   "cell_type": "code",
   "execution_count": 356,
   "metadata": {},
   "outputs": [
    {
     "data": {
      "text/plain": [
       "['__call__',\n",
       " '__class__',\n",
       " '__delattr__',\n",
       " '__dict__',\n",
       " '__dir__',\n",
       " '__doc__',\n",
       " '__eq__',\n",
       " '__format__',\n",
       " '__ge__',\n",
       " '__getattribute__',\n",
       " '__getstate__',\n",
       " '__gt__',\n",
       " '__hash__',\n",
       " '__init__',\n",
       " '__init_subclass__',\n",
       " '__le__',\n",
       " '__lt__',\n",
       " '__module__',\n",
       " '__ne__',\n",
       " '__new__',\n",
       " '__reduce__',\n",
       " '__reduce_ex__',\n",
       " '__repr__',\n",
       " '__setattr__',\n",
       " '__sizeof__',\n",
       " '__str__',\n",
       " '__subclasshook__',\n",
       " '__weakref__',\n",
       " '_backward_cls',\n",
       " '_compiled_autograd_backward_state',\n",
       " '_compiled_autograd_key',\n",
       " '_get_compiled_autograd_symints',\n",
       " '_is_compiled_autograd_tracing',\n",
       " '_materialize_non_diff_grads',\n",
       " '_raw_saved_tensors',\n",
       " '_register_hook',\n",
       " '_register_hook_dict',\n",
       " '_sequence_nr',\n",
       " '_set_sequence_nr',\n",
       " 'apply',\n",
       " 'backward',\n",
       " 'dirty_tensors',\n",
       " 'forward',\n",
       " 'generate_vmap_rule',\n",
       " 'is_traceable',\n",
       " 'jvp',\n",
       " 'mark_dirty',\n",
       " 'mark_non_differentiable',\n",
       " 'mark_shared_storage',\n",
       " 'materialize_grads',\n",
       " 'maybe_clear_saved_tensors',\n",
       " 'metadata',\n",
       " 'name',\n",
       " 'needs_input_grad',\n",
       " 'next_functions',\n",
       " 'non_differentiable',\n",
       " 'register_hook',\n",
       " 'register_prehook',\n",
       " 'requires_grad',\n",
       " 'save_for_backward',\n",
       " 'save_for_forward',\n",
       " 'saved_for_forward',\n",
       " 'saved_tensors',\n",
       " 'saved_variables',\n",
       " 'set_materialize_grads',\n",
       " 'setup_context',\n",
       " 'to_save',\n",
       " 'vjp',\n",
       " 'vmap']"
      ]
     },
     "execution_count": 356,
     "metadata": {},
     "output_type": "execute_result"
    }
   ],
   "source": [
    "dir(torch.autograd.Function)"
   ]
  },
  {
   "cell_type": "markdown",
   "metadata": {},
   "source": [
    "we can set `requires_grad=True` for the weights we want to calculate gradients for. usually we set this for leaf nodes(w, b)\n",
    "\n",
    "if x has `requires_grad=True` ==> y = f(x) also has `requires_grad=True`"
   ]
  },
  {
   "cell_type": "code",
   "execution_count": 357,
   "metadata": {},
   "outputs": [
    {
     "name": "stdout",
     "output_type": "stream",
     "text": [
      "True\n",
      "<SigmoidBackward0 object at 0x000001BF3E70C040>\n"
     ]
    }
   ],
   "source": [
    "x = torch.tensor(1.0, requires_grad=True, dtype=torch.float64)\n",
    "y = torch.sigmoid(x)\n",
    "z = 2*y\n",
    "print(z.requires_grad)\n",
    "print(y.grad_fn)"
   ]
  },
  {
   "cell_type": "code",
   "execution_count": 358,
   "metadata": {},
   "outputs": [
    {
     "data": {
      "text/plain": [
       "True"
      ]
     },
     "execution_count": 358,
     "metadata": {},
     "output_type": "execute_result"
    }
   ],
   "source": [
    "round(1/(1+np.exp(-x.item())), 6) == round(y.item(), 6)"
   ]
  },
  {
   "cell_type": "code",
   "execution_count": 359,
   "metadata": {},
   "outputs": [
    {
     "name": "stdout",
     "output_type": "stream",
     "text": [
      "tensor(1., dtype=torch.float64)\n",
      "None\n",
      "None\n",
      "True\n",
      "<bound method Tensor.backward of tensor(1., dtype=torch.float64, requires_grad=True)>\n"
     ]
    }
   ],
   "source": [
    "print(x.data)\n",
    "print(x.grad)\n",
    "print(x.grad_fn)\n",
    "print(x.requires_grad)\n",
    "print(x.backward)"
   ]
  },
  {
   "cell_type": "markdown",
   "metadata": {},
   "source": [
    "if we make `requires_grad=False` in x then y also becomes a leaf node"
   ]
  },
  {
   "cell_type": "code",
   "execution_count": 360,
   "metadata": {},
   "outputs": [
    {
     "name": "stdout",
     "output_type": "stream",
     "text": [
      "True False tensor(0.7311, dtype=torch.float64, grad_fn=<SigmoidBackward0>)\n"
     ]
    }
   ],
   "source": [
    "print(x.is_leaf, y.is_leaf, y)"
   ]
  },
  {
   "cell_type": "code",
   "execution_count": 361,
   "metadata": {},
   "outputs": [],
   "source": [
    "# you can retain the graph and compute gradient multiple times \n",
    "# by default the graph is deleted and you can't call the gradient multiple times \n",
    "y.backward(retain_graph=True)"
   ]
  },
  {
   "cell_type": "code",
   "execution_count": 362,
   "metadata": {},
   "outputs": [
    {
     "name": "stdout",
     "output_type": "stream",
     "text": [
      "tensor(0.1966, dtype=torch.float64)\n"
     ]
    }
   ],
   "source": [
    "print(x.grad)"
   ]
  },
  {
   "cell_type": "code",
   "execution_count": 363,
   "metadata": {},
   "outputs": [
    {
     "data": {
      "text/plain": [
       "0.19661193324148185"
      ]
     },
     "execution_count": 363,
     "metadata": {},
     "output_type": "execute_result"
    }
   ],
   "source": [
    "y.item()*(1-y.item()) #gradient of sigmoid "
   ]
  },
  {
   "cell_type": "markdown",
   "metadata": {},
   "source": [
    "#### Hooks \n",
    "a hook is a function that can be attached to a Tensor or Module to modify or inspect inputs, outputs, or gradients during the forward or backward pass."
   ]
  },
  {
   "cell_type": "code",
   "execution_count": 364,
   "metadata": {},
   "outputs": [
    {
     "data": {
      "text/plain": [
       "<torch.utils.hooks.RemovableHandle at 0x1bf3d606f60>"
      ]
     },
     "execution_count": 364,
     "metadata": {},
     "output_type": "execute_result"
    }
   ],
   "source": [
    "def y_hook(grad) : \n",
    "    print(\"grad y wrt z is now \", grad)\n",
    "\n",
    "y.register_hook(y_hook)"
   ]
  },
  {
   "cell_type": "code",
   "execution_count": 365,
   "metadata": {},
   "outputs": [
    {
     "name": "stdout",
     "output_type": "stream",
     "text": [
      "grad y wrt z is now  tensor(2., dtype=torch.float64)\n"
     ]
    }
   ],
   "source": [
    "z.backward()"
   ]
  },
  {
   "cell_type": "code",
   "execution_count": 366,
   "metadata": {},
   "outputs": [
    {
     "name": "stderr",
     "output_type": "stream",
     "text": [
      "C:\\Users\\ghora\\AppData\\Local\\Temp\\ipykernel_4832\\486760323.py:1: UserWarning: The .grad attribute of a Tensor that is not a leaf Tensor is being accessed. Its .grad attribute won't be populated during autograd.backward(). If you indeed want the .grad field to be populated for a non-leaf Tensor, use .retain_grad() on the non-leaf Tensor. If you access the non-leaf Tensor by mistake, make sure you access the leaf Tensor instead. See github.com/pytorch/pytorch/pull/30531 for more informations. (Triggered internally at aten\\src\\ATen/core/TensorBody.h:494.)\n",
      "  y.grad\n"
     ]
    }
   ],
   "source": [
    "y.grad"
   ]
  },
  {
   "cell_type": "code",
   "execution_count": 367,
   "metadata": {},
   "outputs": [
    {
     "name": "stdout",
     "output_type": "stream",
     "text": [
      "tensor([0.0000, 0.1111, 0.2222, 0.3333, 0.4444, 0.5556, 0.6667, 0.7778, 0.8889,\n",
      "        1.0000]) tensor([-0.1000, -0.0444,  0.0111,  0.0667,  0.1222,  0.1778,  0.2333,  0.2889,\n",
      "         0.3444,  0.4000])\n"
     ]
    }
   ],
   "source": [
    "x = torch.linspace(0, 1, 10)\n",
    "y = torch.tensor(0.5)*x-0.1\n",
    "print(x, y)"
   ]
  },
  {
   "cell_type": "code",
   "execution_count": 368,
   "metadata": {},
   "outputs": [
    {
     "name": "stdout",
     "output_type": "stream",
     "text": [
      "tensor(-0.5000, requires_grad=True) tensor(1., requires_grad=True)\n",
      "None None\n",
      "tensor(0.) tensor(1.)\n",
      "tensor(0.1111) tensor(2.)\n",
      "tensor(0.3333) tensor(3.)\n",
      "tensor(0.6667) tensor(4.)\n",
      "tensor(1.1111) tensor(5.)\n",
      "tensor(1.6667) tensor(6.)\n",
      "tensor(2.3333) tensor(7.)\n",
      "tensor(3.1111) tensor(8.)\n",
      "tensor(4.) tensor(9.)\n",
      "tensor(5.) tensor(10.)\n"
     ]
    }
   ],
   "source": [
    "w = torch.tensor(-0.5, requires_grad=True)\n",
    "b = torch.tensor(1.0, requires_grad=True)\n",
    "print(w, b)\n",
    "print(w.grad, b.grad)\n",
    "for i in range(len(x)) : \n",
    "    y_hat = w*x[i]+b\n",
    "    y_hat.backward()\n",
    "    print(w.grad, b.grad) "
   ]
  },
  {
   "cell_type": "code",
   "execution_count": 369,
   "metadata": {},
   "outputs": [
    {
     "name": "stdout",
     "output_type": "stream",
     "text": [
      "tensor(-0.5000, requires_grad=True) tensor(1., requires_grad=True)\n",
      "None None\n",
      "tensor(0.) tensor(1.)\n",
      "tensor(0.1111) tensor(1.)\n",
      "tensor(0.2222) tensor(1.)\n",
      "tensor(0.3333) tensor(1.)\n",
      "tensor(0.4444) tensor(1.)\n",
      "tensor(0.5556) tensor(1.)\n",
      "tensor(0.6667) tensor(1.)\n",
      "tensor(0.7778) tensor(1.)\n",
      "tensor(0.8889) tensor(1.)\n",
      "tensor(1.) tensor(1.)\n"
     ]
    }
   ],
   "source": [
    "w = torch.tensor(-0.5, requires_grad=True)\n",
    "b = torch.tensor(1.0, requires_grad=True)\n",
    "print(w, b)\n",
    "print(w.grad, b.grad)\n",
    "for i in range(len(x)) : \n",
    "    y_hat = w*x[i]+b\n",
    "    y_hat.backward()\n",
    "    print(w.grad, b.grad)\n",
    "    w.grad = torch.tensor(0.0)\n",
    "    b.grad = torch.tensor(0.0)"
   ]
  },
  {
   "cell_type": "code",
   "execution_count": 370,
   "metadata": {},
   "outputs": [
    {
     "name": "stdout",
     "output_type": "stream",
     "text": [
      "tensor(-0.5000, requires_grad=True) tensor(1., requires_grad=True)\n",
      "None None\n",
      "tensor(0.) tensor(1.)\n",
      "tensor(0.1111) tensor(2.)\n",
      "tensor(0.3333) tensor(3.)\n",
      "tensor(0.6667) tensor(4.)\n",
      "tensor(1.1111) tensor(5.)\n",
      "tensor(1.6667) tensor(6.)\n",
      "tensor(2.3333) tensor(7.)\n",
      "tensor(3.1111) tensor(8.)\n",
      "tensor(4.) tensor(9.)\n",
      "tensor(5.) tensor(10.)\n"
     ]
    }
   ],
   "source": [
    "w = torch.tensor(-0.5, requires_grad=True)\n",
    "b = torch.tensor(1.0, requires_grad=True)\n",
    "print(w, b)\n",
    "print(w.grad, b.grad)\n",
    "for i in range(len(x)) : \n",
    "    y_hat = w*x[i]+b\n",
    "    y_hat.backward(retain_graph=True)\n",
    "    print(w.grad, b.grad)"
   ]
  },
  {
   "cell_type": "markdown",
   "metadata": {},
   "source": [
    "#### Create sngle sigmoid neuron and compute gradient "
   ]
  },
  {
   "cell_type": "code",
   "execution_count": 371,
   "metadata": {},
   "outputs": [
    {
     "name": "stdout",
     "output_type": "stream",
     "text": [
      "tensor([[-1.0000],\n",
      "        [-0.7778],\n",
      "        [-0.5556],\n",
      "        [-0.3333],\n",
      "        [-0.1111],\n",
      "        [ 0.1111],\n",
      "        [ 0.3333],\n",
      "        [ 0.5556],\n",
      "        [ 0.7778],\n",
      "        [ 1.0000]])\n",
      "tensor([[0.4750],\n",
      "        [0.4861],\n",
      "        [0.4972],\n",
      "        [0.5083],\n",
      "        [0.5194],\n",
      "        [0.5305],\n",
      "        [0.5416],\n",
      "        [0.5526],\n",
      "        [0.5635],\n",
      "        [0.5744]])\n"
     ]
    }
   ],
   "source": [
    "x = torch.linspace(-1.0, 1.0, 10).reshape(10, 1)\n",
    "print(x)\n",
    "w = torch.tensor([0.2])\n",
    "b = torch.tensor([0.1])\n",
    "a = w*x + b \n",
    "y = 1/(1+torch.exp(-(a)))\n",
    "print(y)"
   ]
  },
  {
   "cell_type": "markdown",
   "metadata": {},
   "source": [
    "we can't simply do `w = w - eta*w.grad` as it becomes a non leaf node after the operation\n",
    "\n",
    "```py\n",
    "with torch.set_grad_enabled(False) : \n",
    "    x = x - x.grad \n",
    "\n",
    "with torch.no_grad() : \n",
    "    x = x - x.grad \n",
    "```"
   ]
  },
  {
   "cell_type": "code",
   "execution_count": 372,
   "metadata": {},
   "outputs": [
    {
     "name": "stdout",
     "output_type": "stream",
     "text": [
      "tensor([[ 0.1205, -1.5698, -2.0391,  1.4963,  1.1055,  0.6669, -1.6186, -1.1403,\n",
      "         -1.8049,  0.5094]], requires_grad=True) tensor([[-0.6560]], requires_grad=True)\n"
     ]
    },
    {
     "name": "stdout",
     "output_type": "stream",
     "text": [
      "tensor([[-0.1036, -1.7442, -2.1636,  1.4216,  1.0806,  0.6918, -1.5439, -1.0158,\n",
      "         -1.6306,  0.7335]], requires_grad=True) tensor([[-0.4318]], requires_grad=True)\n"
     ]
    }
   ],
   "source": [
    "w = torch.randn(size=(1, 10), requires_grad=True) # leaf node\n",
    "b = torch.randn(size=(1, 1), requires_grad=True) # leaf node\n",
    "print(w, b)\n",
    "eta = tensor(0.1)\n",
    "loss = []\n",
    "epochs = 100\n",
    "a_grad = []\n",
    "def a_hook(grad) : \n",
    "    a_grad.append(grad.detach().item())\n",
    "    return grad \n",
    "\n",
    "for i in range(epochs) :\n",
    "    # ? forward prop \n",
    "    a = torch.matmul(w, x)+b # a  = w*x + b \n",
    "    a.register_hook(a_hook)\n",
    "    y_hat = 1/(1+torch.exp(-(a)))\n",
    "\n",
    "    # ? compute loss \n",
    "    L = torch.sum(torch.pow((y_hat - y), 2), dim = 0)\n",
    "    loss.append(L.detach().numpy()) # detach from the graph \n",
    "\n",
    "    # ? back prop \n",
    "    L.backward()\n",
    "    # print(w.grad)\n",
    "    # print(f'iter : {1}, is leaf : {w.is_leaf}')\n",
    "\n",
    "    # ? update parameter  \n",
    "    with torch.no_grad() : \n",
    "        w -= eta*w.grad \n",
    "        b -= eta*b.grad \n",
    "\n",
    "    # ? zero the grad ow it keeps accumulating \n",
    "    w.grad.zero_()\n",
    "    b.grad.zero_()\n",
    "\n",
    "# get the correct values for w and b \n",
    "print(w, b)"
   ]
  },
  {
   "cell_type": "code",
   "execution_count": 373,
   "metadata": {},
   "outputs": [
    {
     "data": {
      "image/png": "[encoded data removed]",
      "text/plain": [
       "<Figure size 640x480 with 1 Axes>"
      ]
     },
     "metadata": {},
     "output_type": "display_data"
    }
   ],
   "source": [
    "plt.plot(np.array(loss)) \n",
    "plt.xlabel(\"Iterations\")\n",
    "plt.ylabel(\"Loss\")\n",
    "plt.show()"
   ]
  },
  {
   "cell_type": "code",
   "execution_count": 374,
   "metadata": {},
   "outputs": [
    {
     "data": {
      "image/png": "[encoded data removed]",
      "text/plain": [
       "<Figure size 640x480 with 1 Axes>"
      ]
     },
     "metadata": {},
     "output_type": "display_data"
    }
   ],
   "source": [
    "plt.plot(a_grad) \n",
    "plt.xlabel(\"Iterations\")\n",
    "plt.ylabel(\"gradient\")\n",
    "plt.show()"
   ]
  },
  {
   "cell_type": "code",
   "execution_count": null,
   "metadata": {},
   "outputs": [],
   "source": []
  }
 ],
 "metadata": {
  "kernelspec": {
   "display_name": "Python 3",
   "language": "python",
   "name": "python3"
  },
  "language_info": {
   "codemirror_mode": {
    "name": "ipython",
    "version": 3
   },
   "file_extension": ".py",
   "mimetype": "text/x-python",
   "name": "python",
   "nbconvert_exporter": "python",
   "pygments_lexer": "ipython3",
   "version": "3.12.0"
  }
 },
 "nbformat": 4,
 "nbformat_minor": 2
}
