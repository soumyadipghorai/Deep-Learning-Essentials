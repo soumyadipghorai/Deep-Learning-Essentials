{
 "cells": [
  {
   "cell_type": "code",
   "execution_count": 1,
   "metadata": {},
   "outputs": [],
   "source": [
    "import torch \n",
    "import torch.nn as nn \n",
    "import torch.nn.functional as F \n",
    "\n",
    "from torch.optim import Adam\n",
    "from torch.utils.data import TensorDataset, DataLoader \n",
    "from lightning.pytorch.callbacks.callback import Callback\n",
    "\n",
    "import lightning as L "
   ]
  },
  {
   "cell_type": "markdown",
   "metadata": {},
   "source": [
    "The transformer will answer `what is statquest`, `and statquest is what` in both case it will return `awesome`"
   ]
  },
  {
   "cell_type": "code",
   "execution_count": 2,
   "metadata": {},
   "outputs": [],
   "source": [
    "token_to_id = {\n",
    "    \"what\" : 0, \n",
    "    'is' : 1, \n",
    "    \"statquest\" : 2, \n",
    "    \"awesome\" : 3, \n",
    "    \"<EOS>\" : 4\n",
    "}\n",
    "\n",
    "id_to_token = dict(map(reversed, token_to_id.items()))"
   ]
  },
  {
   "cell_type": "code",
   "execution_count": 3,
   "metadata": {},
   "outputs": [],
   "source": [
    "inputs = torch.tensor([\n",
    "    [\n",
    "        token_to_id[\"what\"], token_to_id[\"is\"], \n",
    "        token_to_id[\"statquest\"], token_to_id[\"<EOS>\"], \n",
    "        token_to_id[\"awesome\"]\n",
    "    ], \n",
    "    [   \n",
    "        token_to_id[\"statquest\"], token_to_id[\"is\"], \n",
    "        token_to_id[\"what\"], token_to_id[\"<EOS>\"], \n",
    "        token_to_id[\"awesome\"]\n",
    "    ]\n",
    "])\n",
    "\n",
    "labels = torch.tensor([\n",
    "    [\n",
    "        token_to_id[\"is\"], token_to_id[\"statquest\"], \n",
    "        token_to_id[\"<EOS>\"], token_to_id[\"awesome\"],\n",
    "        token_to_id[\"<EOS>\"], \n",
    "    ],\n",
    "    [\n",
    "        token_to_id[\"is\"], token_to_id[\"what\"], \n",
    "        token_to_id[\"<EOS>\"], token_to_id[\"awesome\"],\n",
    "        token_to_id[\"<EOS>\"], \n",
    "    ]\n",
    "])"
   ]
  },
  {
   "cell_type": "code",
   "execution_count": 4,
   "metadata": {},
   "outputs": [],
   "source": [
    "dataset = TensorDataset(inputs, labels)\n",
    "dataloader = DataLoader(dataset)"
   ]
  },
  {
   "cell_type": "code",
   "execution_count": 5,
   "metadata": {},
   "outputs": [],
   "source": [
    "class PositonEncoding(nn.Module) : \n",
    "    def __init__(self, d_model = 2, max_len = 6) : \n",
    "        super().__init__()\n",
    "        pe = torch.zeros(max_len, d_model)\n",
    "        position = torch.arange(start=0, end = max_len, step =1).float().unsqueeze(1) # turns into column matrix \n",
    "        embedding_index = torch.arange(start = 0, end= d_model, step = 2).float()\n",
    "\n",
    "        div_term = 1/torch.tensor(10000.0)**(embedding_index/d_model)\n",
    "        pe[:, 0::2] = torch.sin(position * div_term)\n",
    "        pe[:, 1::2] = torch.cos(position*div_term)\n",
    "\n",
    "        self.register_buffer('pe', pe)\n",
    "\n",
    "    def forward(self, word_embeddings) : \n",
    "        return word_embeddings+ self.pe[:word_embeddings.size(0), :]\n",
    "    \n",
    "class Attention(nn.Module) : \n",
    "    def __init__(self, d_model = 2) : \n",
    "        super().__init__()\n",
    "        self.W_q = nn.Linear(in_features=d_model, out_features=d_model, bias = False)\n",
    "        self.W_k = nn.Linear(in_features=d_model, out_features=d_model, bias = False)\n",
    "        self.W_v = nn.Linear(in_features=d_model, out_features=d_model, bias = False)\n",
    "\n",
    "        self.row_dim = 0 \n",
    "        self.col_dim = 1 \n",
    "\n",
    "    def forward(self, encodings_for_q, encodings_for_k, encodings_for_v, mask = None) : \n",
    "        q = self.W_q(encodings_for_q)\n",
    "        k = self.W_v(encodings_for_v)\n",
    "        v = self.W_k(encodings_for_k)\n",
    "\n",
    "        sims = torch.matmul(q, k.transpose(dim0 = self.row_dim, dim1 = self.col_dim)) \n",
    "        scaled_sims = sims/ torch.tensor(k.size(self.col_dim)**0.5)\n",
    "        if mask is not None : \n",
    "            scaled_sims = scaled_sims.masked_fill(mask = mask, value = -1e9)\n",
    "\n",
    "        attention_percentage = F.softmax(scaled_sims, dim = self.col_dim)\n",
    "        attention_score = torch.matmul(attention_percentage, v)\n",
    "        return attention_score\n",
    "    \n",
    "class DecoderOnlyTransformer(L.LightningModule) : \n",
    "    def __init__(self, num_tokens = 4, d_model = 2, max_len = 5) :\n",
    "        super().__init__()\n",
    "        self.we = nn.Embedding(num_embeddings=num_tokens, embedding_dim=d_model)\n",
    "        self.pe = PositonEncoding(d_model=d_model, max_len=max_len)\n",
    "        self.self_attention = Attention(d_model=d_model)\n",
    "        self.fc_layer = nn.Linear(in_features=d_model, out_features=num_tokens)\n",
    "\n",
    "        self.loss = nn.CrossEntropyLoss()\n",
    "\n",
    "    def forward(self, token_ids) : \n",
    "        word_embeddings = self.we(token_ids)\n",
    "        position_encoded = self.pe(word_embeddings)\n",
    "\n",
    "        mask = torch.tril(torch.ones((token_ids.size(dim = 0), token_ids.size(dim=0)))) # lower triangle \n",
    "        mask = mask == 0 \n",
    "        \n",
    "        self_attention_values = self.self_attention(position_encoded, position_encoded, position_encoded, mask = mask)\n",
    "\n",
    "        residual_connection_values = position_encoded + self_attention_values\n",
    "        fc_layer_output = self.fc_layer(residual_connection_values)\n",
    "\n",
    "        return fc_layer_output\n",
    "    \n",
    "    def configure_optimizers(self) : \n",
    "        return Adam(self.parameters(), lr=0.1)\n",
    "    \n",
    "    def training_step(self, batch, batch_idx) : \n",
    "        input_tokens, labels = batch \n",
    "        output = self.forward(input_tokens[0])\n",
    "        loss = self.loss(output, labels[0])\n",
    "\n",
    "        return loss "
   ]
  },
  {
   "cell_type": "code",
   "execution_count": 6,
   "metadata": {},
   "outputs": [
    {
     "name": "stdout",
     "output_type": "stream",
     "text": [
      "predicted token : \n",
      "\n",
      "<EOS>\n"
     ]
    }
   ],
   "source": [
    "model = DecoderOnlyTransformer(num_tokens=len(token_to_id), d_model = 2, max_len=6)\n",
    "model_input = torch.tensor([\n",
    "    token_to_id[\"what\"], token_to_id[\"is\"], \n",
    "    token_to_id[\"statquest\"], token_to_id[\"<EOS>\"],\n",
    "])\n",
    "def generate_response(model, model_input) :\n",
    "    input_length = model_input.size(dim = 0)\n",
    "    predictions = model(model_input)\n",
    "    predicted_id = torch.tensor([torch.argmax(predictions[-1,:])])\n",
    "    predicted_ids = predicted_id \n",
    "\n",
    "    max_length = 6 \n",
    "    for i in range(input_length, max_length) : \n",
    "        if predicted_id == token_to_id[\"<EOS>\"] : \n",
    "            break \n",
    "\n",
    "        model_input = torch.cat((model_input, predicted_id))\n",
    "        predicted_id = torch.tensor([torch.argmax(predictions[-1, :])])\n",
    "        predicted_ids = torch.cat((predicted_ids, predicted_id))\n",
    "\n",
    "    print(\"predicted token : \\n\")\n",
    "    for id in predicted_ids : \n",
    "        print(id_to_token[id.item()])\n",
    "\n",
    "generate_response(model, model_input)"
   ]
  },
  {
   "cell_type": "code",
   "execution_count": 7,
   "metadata": {},
   "outputs": [
    {
     "name": "stderr",
     "output_type": "stream",
     "text": [
      "GPU available: False, used: False\n",
      "TPU available: False, using: 0 TPU cores\n",
      "HPU available: False, using: 0 HPUs\n",
      "\n",
      "  | Name           | Type             | Params | Mode \n",
      "------------------------------------------------------------\n",
      "0 | we             | Embedding        | 10     | train\n",
      "1 | pe             | PositonEncoding  | 0      | train\n",
      "2 | self_attention | Attention        | 12     | train\n",
      "3 | fc_layer       | Linear           | 15     | train\n",
      "4 | loss           | CrossEntropyLoss | 0      | train\n",
      "------------------------------------------------------------\n",
      "37        Trainable params\n",
      "0         Non-trainable params\n",
      "37        Total params\n",
      "0.000     Total estimated model params size (MB)\n",
      "8         Modules in train mode\n",
      "0         Modules in eval mode\n",
      "c:\\Users\\ghora\\AppData\\Local\\Programs\\Python\\Python312\\Lib\\site-packages\\lightning\\pytorch\\trainer\\connectors\\data_connector.py:424: The 'train_dataloader' does not have many workers which may be a bottleneck. Consider increasing the value of the `num_workers` argument` to `num_workers=15` in the `DataLoader` to improve performance.\n",
      "c:\\Users\\ghora\\AppData\\Local\\Programs\\Python\\Python312\\Lib\\site-packages\\lightning\\pytorch\\loops\\fit_loop.py:298: The number of training batches (2) is smaller than the logging interval Trainer(log_every_n_steps=50). Set a lower value for log_every_n_steps if you want to see logs for the training epoch.\n"
     ]
    },
    {
     "data": {
      "application/vnd.jupyter.widget-view+json": {
       "model_id": "23ed5fc6272e467b8a7ddf1ed3d3119d",
       "version_major": 2,
       "version_minor": 0
      },
      "text/plain": [
       "Training: |          | 0/? [00:00<?, ?it/s]"
      ]
     },
     "metadata": {},
     "output_type": "display_data"
    },
    {
     "name": "stderr",
     "output_type": "stream",
     "text": [
      "`Trainer.fit` stopped: `max_epochs=30` reached.\n"
     ]
    }
   ],
   "source": [
    "trainer = L.Trainer(max_epochs=30)\n",
    "trainer.fit(model, train_dataloaders=dataloader)"
   ]
  },
  {
   "cell_type": "code",
   "execution_count": 8,
   "metadata": {},
   "outputs": [
    {
     "name": "stdout",
     "output_type": "stream",
     "text": [
      "predicted token : \n",
      "\n",
      "awesome\n",
      "awesome\n",
      "awesome\n"
     ]
    }
   ],
   "source": [
    "generate_response(model, model_input)"
   ]
  },
  {
   "cell_type": "code",
   "execution_count": 9,
   "metadata": {},
   "outputs": [
    {
     "name": "stdout",
     "output_type": "stream",
     "text": [
      "predicted token : \n",
      "\n",
      "awesome\n",
      "awesome\n",
      "awesome\n"
     ]
    }
   ],
   "source": [
    "new_model_input = torch.tensor([\n",
    "    token_to_id[\"statquest\"], token_to_id[\"is\"], \n",
    "    token_to_id[\"what\"], token_to_id[\"<EOS>\"],\n",
    "])\n",
    "\n",
    "generate_response(model, new_model_input)"
   ]
  },
  {
   "cell_type": "code",
   "execution_count": null,
   "metadata": {},
   "outputs": [],
   "source": []
  },
  {
   "cell_type": "code",
   "execution_count": null,
   "metadata": {},
   "outputs": [],
   "source": []
  }
 ],
 "metadata": {
  "kernelspec": {
   "display_name": "Python 3",
   "language": "python",
   "name": "python3"
  },
  "language_info": {
   "codemirror_mode": {
    "name": "ipython",
    "version": 3
   },
   "file_extension": ".py",
   "mimetype": "text/x-python",
   "name": "python",
   "nbconvert_exporter": "python",
   "pygments_lexer": "ipython3",
   "version": "3.12.0"
  }
 },
 "nbformat": 4,
 "nbformat_minor": 2
}
