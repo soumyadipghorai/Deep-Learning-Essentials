{
 "cells": [
  {
   "cell_type": "code",
   "execution_count": 2,
   "metadata": {},
   "outputs": [],
   "source": [
    "import torch \n",
    "import torch.nn as nn \n",
    "import torch.nn.functional as F \n",
    "from torch.optim import Adam\n",
    "\n",
    "import lightning as L \n",
    "from torch.utils.data import TensorDataset, DataLoader"
   ]
  },
  {
   "cell_type": "code",
   "execution_count": 15,
   "metadata": {},
   "outputs": [],
   "source": [
    "class LSTMbyHand(L.LightningModule) :\n",
    "    def __init__(self) : \n",
    "        super().__init__()\n",
    "        mean = torch.tensor(0.0)\n",
    "        std = torch.tensor(1.0)\n",
    "        self.wlr1 = nn.Parameter(torch.normal(mean = mean, std = std), requires_grad = True)\n",
    "        self.wlr2 = nn.Parameter(torch.normal(mean = mean, std = std), requires_grad = True)\n",
    "        self.blr1 = nn.Parameter(torch.tensor(0.), requires_grad = True)\n",
    "\n",
    "        self.wpr1 = nn.Parameter(torch.normal(mean = mean, std = std), requires_grad = True)\n",
    "        self.wpr2 = nn.Parameter(torch.normal(mean = mean, std = std), requires_grad = True)\n",
    "        self.bpr1 = nn.Parameter(torch.tensor(0.), requires_grad = True)\n",
    "        \n",
    "        self.wp1 = nn.Parameter(torch.normal(mean = mean, std = std), requires_grad = True)\n",
    "        self.wp2 = nn.Parameter(torch.normal(mean = mean, std = std), requires_grad = True)\n",
    "        self.bp1 = nn.Parameter(torch.tensor(0.), requires_grad = True)\n",
    "        \n",
    "        self.wo1 = nn.Parameter(torch.normal(mean = mean, std = std), requires_grad = True)\n",
    "        self.wo2 = nn.Parameter(torch.normal(mean = mean, std = std), requires_grad = True)\n",
    "        self.bo1 = nn.Parameter(torch.tensor(0.), requires_grad = True)\n",
    "\n",
    "    def lstm_unit(self, input_value, long_memory, short_memory) : \n",
    "        long_remember_percent = torch.sigmoid((short_memory*self.wlr1) + (input_value*self.wlr2) + self.blr1)  \n",
    "        potential_remember_percent = torch.sigmoid((short_memory*self.wpr2) + (input_value*self.wpr2) + self.bpr1)\n",
    "        potential_memory = torch.tanh((short_memory*self.wp1) + (input_value*self.wp2) + self.bp1)\n",
    "        updated_long_memory = (long_memory*long_remember_percent) + (potential_remember_percent*potential_memory)\n",
    "        \n",
    "        output_percent = torch.sigmoid((short_memory*self.wo1) + (input_value*self.wo2) + self.bo1)\n",
    "        updated_short_memory = torch.tanh(updated_long_memory) * output_percent\n",
    "\n",
    "        return updated_long_memory, updated_short_memory\n",
    "    \n",
    "    def forward(self, input_value) : \n",
    "        long_memory, short_memory = 0, 0 \n",
    "        day1, day2, day3, day4 = input_value\n",
    "        long_memory, short_memory = self.lstm_unit(day1, long_memory, short_memory)\n",
    "        long_memory, short_memory = self.lstm_unit(day2, long_memory, short_memory)\n",
    "        long_memory, short_memory = self.lstm_unit(day3, long_memory, short_memory)\n",
    "        long_memory, short_memory = self.lstm_unit(day4, long_memory, short_memory)\n",
    "\n",
    "        return short_memory\n",
    "\n",
    "    def configure_optimizers(self) : \n",
    "        return Adam(self.parameters()) \n",
    "\n",
    "    def training_step(self, batch, batch_idx) : \n",
    "        input_i, label_i = batch \n",
    "        output_i = self.forward(input_i[0])\n",
    "        loss = (output_i - label_i)**2 \n",
    "\n",
    "        self.log(\"train_loss : \", loss) \n",
    "        if label_i == 0 : \n",
    "            self.log(\"output_0 : \", output_i)\n",
    "        else : \n",
    "            self.log(\"output_1 : \", output_i)\n",
    "\n",
    "        return loss "
   ]
  },
  {
   "cell_type": "code",
   "execution_count": 16,
   "metadata": {},
   "outputs": [
    {
     "name": "stdout",
     "output_type": "stream",
     "text": [
      "Company A : observed = 0, predicted =  tensor(0.0551)\n",
      "Company B : observed = 1, predicted =  tensor(0.0630)\n"
     ]
    }
   ],
   "source": [
    "model = LSTMbyHand()\n",
    "print(\"Company A : observed = 0, predicted = \", model(torch.tensor([0., 0.5, 0.25, 1.])).detach())\n",
    "print(\"Company B : observed = 1, predicted = \", model(torch.tensor([1., 0.5, 0.25, 1.])).detach())"
   ]
  },
  {
   "cell_type": "code",
   "execution_count": 22,
   "metadata": {},
   "outputs": [],
   "source": [
    "inputs = torch.tensor([\n",
    "    [0., 0.5, 0.25, 1.], \n",
    "    [1., 0.5, 0.25, 1.]\n",
    "])\n",
    "labels = torch.tensor([0., 1.])\n",
    "\n",
    "dataset = TensorDataset(inputs, labels)\n",
    "dataloader = DataLoader(dataset)"
   ]
  },
  {
   "cell_type": "code",
   "execution_count": 23,
   "metadata": {},
   "outputs": [
    {
     "name": "stderr",
     "output_type": "stream",
     "text": [
      "GPU available: False, used: False\n",
      "TPU available: False, using: 0 TPU cores\n",
      "HPU available: False, using: 0 HPUs\n",
      "\n",
      "  | Name         | Type | Params | Mode\n",
      "---------------------------------------------\n",
      "  | other params | n/a  | 12     | n/a \n",
      "---------------------------------------------\n",
      "12        Trainable params\n",
      "0         Non-trainable params\n",
      "12        Total params\n",
      "0.000     Total estimated model params size (MB)\n",
      "0         Modules in train mode\n",
      "0         Modules in eval mode\n",
      "c:\\Users\\ghora\\AppData\\Local\\Programs\\Python\\Python312\\Lib\\site-packages\\lightning\\pytorch\\trainer\\connectors\\data_connector.py:424: The 'train_dataloader' does not have many workers which may be a bottleneck. Consider increasing the value of the `num_workers` argument` to `num_workers=15` in the `DataLoader` to improve performance.\n",
      "c:\\Users\\ghora\\AppData\\Local\\Programs\\Python\\Python312\\Lib\\site-packages\\lightning\\pytorch\\loops\\fit_loop.py:298: The number of training batches (2) is smaller than the logging interval Trainer(log_every_n_steps=50). Set a lower value for log_every_n_steps if you want to see logs for the training epoch.\n"
     ]
    },
    {
     "data": {
      "application/vnd.jupyter.widget-view+json": {
       "model_id": "f5cb11e6d65e4be6b379ce1c6a375b63",
       "version_major": 2,
       "version_minor": 0
      },
      "text/plain": [
       "Training: |          | 0/? [00:00<?, ?it/s]"
      ]
     },
     "metadata": {},
     "output_type": "display_data"
    },
    {
     "name": "stderr",
     "output_type": "stream",
     "text": [
      "`Trainer.fit` stopped: `max_epochs=2000` reached.\n"
     ]
    }
   ],
   "source": [
    "trainer = L.Trainer(max_epochs=2000)\n",
    "trainer.fit(model, train_dataloaders=dataloader)"
   ]
  },
  {
   "cell_type": "code",
   "execution_count": 28,
   "metadata": {},
   "outputs": [
    {
     "name": "stdout",
     "output_type": "stream",
     "text": [
      "Company A: Observed = 0, prdicted =  tensor(0.0029)\n",
      "Company B: Observed = 1, prdicted =  tensor(0.9293)\n"
     ]
    }
   ],
   "source": [
    "print(\"Company A: Observed = 0, prdicted = \", model(torch.tensor([0., 0.5, 0.25, 1])).detach())\n",
    "print(\"Company cd B B: Observed = 1, prdicted = \", model(torch.tensor([1., 0.5, 0.25, 1.])).detach())"
   ]
  },
  {
   "cell_type": "markdown",
   "metadata": {},
   "source": [
    "```sh\n",
    "cd lighting_logs \n",
    "tensorboard --logdir=lighting_logs/\n",
    "```\n",
    "\n",
    "then visit `http://localhost:6006/`"
   ]
  },
  {
   "cell_type": "code",
   "execution_count": 31,
   "metadata": {},
   "outputs": [
    {
     "name": "stderr",
     "output_type": "stream",
     "text": [
      "GPU available: False, used: False\n",
      "TPU available: False, using: 0 TPU cores\n",
      "HPU available: False, using: 0 HPUs\n",
      "Restoring states from the checkpoint path at d:\\vscode\\deep learning\\PyTorch\\BAM\\lightning_logs\\version_11\\checkpoints\\epoch=1999-step=4000.ckpt\n",
      "c:\\Users\\ghora\\AppData\\Local\\Programs\\Python\\Python312\\Lib\\site-packages\\lightning\\pytorch\\callbacks\\model_checkpoint.py:362: The dirpath has changed from 'd:\\\\vscode\\\\deep learning\\\\PyTorch\\\\BAM\\\\lightning_logs\\\\version_11\\\\checkpoints' to 'd:\\\\vscode\\\\deep learning\\\\PyTorch\\\\BAM\\\\lightning_logs\\\\version_12\\\\checkpoints', therefore `best_model_score`, `kth_best_model_path`, `kth_value`, `last_model_path` and `best_k_models` won't be reloaded. Only `best_model_path` will be reloaded.\n",
      "\n",
      "  | Name         | Type | Params | Mode\n",
      "---------------------------------------------\n",
      "  | other params | n/a  | 12     | n/a \n",
      "---------------------------------------------\n",
      "12        Trainable params\n",
      "0         Non-trainable params\n",
      "12        Total params\n",
      "0.000     Total estimated model params size (MB)\n",
      "0         Modules in train mode\n",
      "0         Modules in eval mode\n",
      "Restored all states from the checkpoint at d:\\vscode\\deep learning\\PyTorch\\BAM\\lightning_logs\\version_11\\checkpoints\\epoch=1999-step=4000.ckpt\n",
      "c:\\Users\\ghora\\AppData\\Local\\Programs\\Python\\Python312\\Lib\\site-packages\\lightning\\pytorch\\trainer\\connectors\\data_connector.py:424: The 'train_dataloader' does not have many workers which may be a bottleneck. Consider increasing the value of the `num_workers` argument` to `num_workers=15` in the `DataLoader` to improve performance.\n",
      "c:\\Users\\ghora\\AppData\\Local\\Programs\\Python\\Python312\\Lib\\site-packages\\lightning\\pytorch\\loops\\fit_loop.py:298: The number of training batches (2) is smaller than the logging interval Trainer(log_every_n_steps=50). Set a lower value for log_every_n_steps if you want to see logs for the training epoch.\n"
     ]
    },
    {
     "data": {
      "application/vnd.jupyter.widget-view+json": {
       "model_id": "511005c7613d48c8a3a15569b08c825b",
       "version_major": 2,
       "version_minor": 0
      },
      "text/plain": [
       "Training: |          | 0/? [00:00<?, ?it/s]"
      ]
     },
     "metadata": {},
     "output_type": "display_data"
    },
    {
     "name": "stderr",
     "output_type": "stream",
     "text": [
      "`Trainer.fit` stopped: `max_epochs=3000` reached.\n"
     ]
    }
   ],
   "source": [
    "path_to_best_checkpoint = trainer.checkpoint_callback.best_model_path\n",
    "trainer = L.Trainer(max_epochs = 3000)\n",
    "trainer.fit(model, train_dataloaders= dataloader, ckpt_path=path_to_best_checkpoint)"
   ]
  },
  {
   "cell_type": "code",
   "execution_count": 32,
   "metadata": {},
   "outputs": [
    {
     "name": "stdout",
     "output_type": "stream",
     "text": [
      "Company A: Observed = 0, prdicted =  tensor(0.0005)\n",
      "Company cd B B: Observed = 1, prdicted =  tensor(0.9607)\n"
     ]
    }
   ],
   "source": [
    "print(\"Company A: Observed = 0, prdicted = \", model(torch.tensor([0., 0.5, 0.25, 1])).detach())\n",
    "print(\"Company cd B B: Observed = 1, prdicted = \", model(torch.tensor([1., 0.5, 0.25, 1.])).detach())"
   ]
  },
  {
   "cell_type": "code",
   "execution_count": 33,
   "metadata": {},
   "outputs": [
    {
     "name": "stderr",
     "output_type": "stream",
     "text": [
      "GPU available: False, used: False\n",
      "TPU available: False, using: 0 TPU cores\n",
      "HPU available: False, using: 0 HPUs\n",
      "Restoring states from the checkpoint path at d:\\vscode\\deep learning\\PyTorch\\BAM\\lightning_logs\\version_12\\checkpoints\\epoch=2999-step=6000.ckpt\n",
      "c:\\Users\\ghora\\AppData\\Local\\Programs\\Python\\Python312\\Lib\\site-packages\\lightning\\pytorch\\callbacks\\model_checkpoint.py:362: The dirpath has changed from 'd:\\\\vscode\\\\deep learning\\\\PyTorch\\\\BAM\\\\lightning_logs\\\\version_12\\\\checkpoints' to 'd:\\\\vscode\\\\deep learning\\\\PyTorch\\\\BAM\\\\lightning_logs\\\\version_13\\\\checkpoints', therefore `best_model_score`, `kth_best_model_path`, `kth_value`, `last_model_path` and `best_k_models` won't be reloaded. Only `best_model_path` will be reloaded.\n",
      "\n",
      "  | Name         | Type | Params | Mode\n",
      "---------------------------------------------\n",
      "  | other params | n/a  | 12     | n/a \n",
      "---------------------------------------------\n",
      "12        Trainable params\n",
      "0         Non-trainable params\n",
      "12        Total params\n",
      "0.000     Total estimated model params size (MB)\n",
      "0         Modules in train mode\n",
      "0         Modules in eval mode\n",
      "Restored all states from the checkpoint at d:\\vscode\\deep learning\\PyTorch\\BAM\\lightning_logs\\version_12\\checkpoints\\epoch=2999-step=6000.ckpt\n"
     ]
    },
    {
     "data": {
      "application/vnd.jupyter.widget-view+json": {
       "model_id": "ecd27bec9e394f5ea4206310c3ceba5e",
       "version_major": 2,
       "version_minor": 0
      },
      "text/plain": [
       "Training: |          | 0/? [00:00<?, ?it/s]"
      ]
     },
     "metadata": {},
     "output_type": "display_data"
    },
    {
     "name": "stderr",
     "output_type": "stream",
     "text": [
      "`Trainer.fit` stopped: `max_epochs=5000` reached.\n"
     ]
    }
   ],
   "source": [
    "path_to_best_checkpoint = trainer.checkpoint_callback.best_model_path\n",
    "trainer = L.Trainer(max_epochs = 5000)\n",
    "trainer.fit(model, train_dataloaders= dataloader, ckpt_path=path_to_best_checkpoint)"
   ]
  },
  {
   "cell_type": "code",
   "execution_count": 34,
   "metadata": {},
   "outputs": [
    {
     "name": "stdout",
     "output_type": "stream",
     "text": [
      "Company A: Observed = 0, prdicted =  tensor(3.3784e-05)\n",
      "Company cd B B: Observed = 1, prdicted =  tensor(0.9841)\n"
     ]
    }
   ],
   "source": [
    "print(\"Company A: Observed = 0, prdicted = \", model(torch.tensor([0., 0.5, 0.25, 1])).detach())\n",
    "print(\"Company cd B B: Observed = 1, prdicted = \", model(torch.tensor([1., 0.5, 0.25, 1.])).detach())"
   ]
  },
  {
   "cell_type": "code",
   "execution_count": 37,
   "metadata": {},
   "outputs": [],
   "source": [
    "class LightningLSTTM(L.LightningModule) : \n",
    "    def __init__(self) : \n",
    "        super().__init__() \n",
    "        self.lstm = nn.LSTM(input_size = 1, hidden_size=1)\n",
    "\n",
    "    def forward(self, inputs) : \n",
    "        input_trans = inputs.view(len(inputs), 1)\n",
    "        lstm_out, temp = self.lstm(input_trans)\n",
    "\n",
    "        prediction = lstm_out[-1]\n",
    "        return prediction\n",
    "    \n",
    "    def configure_optimizers(self) : \n",
    "        return Adam(self.parameters(), lr = 0.1)\n",
    "    \n",
    "    def training_step(self, batch, batch_idx) : \n",
    "        input_i, label_i = batch \n",
    "        output_i = self.forward(input_i[0])\n",
    "        loss = (output_i - label_i)**2 \n",
    "\n",
    "        self.log(\"train_loss : \", loss) \n",
    "        if label_i == 0 : \n",
    "            self.log(\"output_0 : \", output_i)\n",
    "        else : \n",
    "            self.log(\"output_1 : \", output_i)\n",
    "\n",
    "        return loss  "
   ]
  },
  {
   "cell_type": "code",
   "execution_count": 38,
   "metadata": {},
   "outputs": [
    {
     "name": "stdout",
     "output_type": "stream",
     "text": [
      "Company A: Observed = 0, prdicted =  tensor([-0.2061])\n",
      "Company cd B B: Observed = 1, prdicted =  tensor([-0.2120])\n"
     ]
    }
   ],
   "source": [
    "new_model = LightningLSTTM()\n",
    "\n",
    "print(\"Company A: Observed = 0, prdicted = \", new_model(torch.tensor([0., 0.5, 0.25, 1])).detach())\n",
    "print(\"Company cd B B: Observed = 1, prdicted = \", new_model(torch.tensor([1., 0.5, 0.25, 1.])).detach())"
   ]
  },
  {
   "cell_type": "code",
   "execution_count": 40,
   "metadata": {},
   "outputs": [
    {
     "name": "stderr",
     "output_type": "stream",
     "text": [
      "GPU available: False, used: False\n",
      "TPU available: False, using: 0 TPU cores\n",
      "HPU available: False, using: 0 HPUs\n",
      "\n",
      "  | Name | Type | Params | Mode \n",
      "--------------------------------------\n",
      "0 | lstm | LSTM | 16     | train\n",
      "--------------------------------------\n",
      "16        Trainable params\n",
      "0         Non-trainable params\n",
      "16        Total params\n",
      "0.000     Total estimated model params size (MB)\n",
      "1         Modules in train mode\n",
      "0         Modules in eval mode\n",
      "c:\\Users\\ghora\\AppData\\Local\\Programs\\Python\\Python312\\Lib\\site-packages\\lightning\\pytorch\\trainer\\connectors\\data_connector.py:424: The 'train_dataloader' does not have many workers which may be a bottleneck. Consider increasing the value of the `num_workers` argument` to `num_workers=15` in the `DataLoader` to improve performance.\n"
     ]
    },
    {
     "data": {
      "application/vnd.jupyter.widget-view+json": {
       "model_id": "32fb4d3ad0874863aa8cd25bfc36fddf",
       "version_major": 2,
       "version_minor": 0
      },
      "text/plain": [
       "Training: |          | 0/? [00:00<?, ?it/s]"
      ]
     },
     "metadata": {},
     "output_type": "display_data"
    },
    {
     "name": "stderr",
     "output_type": "stream",
     "text": [
      "`Trainer.fit` stopped: `max_epochs=3000` reached.\n"
     ]
    }
   ],
   "source": [
    "trainer = L.Trainer(max_epochs=3000, log_every_n_steps=2)\n",
    "trainer.fit(new_model, train_dataloaders= dataloader)"
   ]
  },
  {
   "cell_type": "code",
   "execution_count": 41,
   "metadata": {},
   "outputs": [
    {
     "name": "stdout",
     "output_type": "stream",
     "text": [
      "Company A: Observed = 0, prdicted =  tensor([-0.0005])\n",
      "Company cd B B: Observed = 1, prdicted =  tensor([0.9947])\n"
     ]
    }
   ],
   "source": [
    "print(\"Company A: Observed = 0, prdicted = \", new_model(torch.tensor([0., 0.5, 0.25, 1])).detach())\n",
    "print(\"Company cd B B: Observed = 1, prdicted = \", new_model(torch.tensor([1., 0.5, 0.25, 1.])).detach())"
   ]
  },
  {
   "cell_type": "code",
   "execution_count": null,
   "metadata": {},
   "outputs": [],
   "source": []
  }
 ],
 "metadata": {
  "kernelspec": {
   "display_name": "Python 3",
   "language": "python",
   "name": "python3"
  },
  "language_info": {
   "codemirror_mode": {
    "name": "ipython",
    "version": 3
   },
   "file_extension": ".py",
   "mimetype": "text/x-python",
   "name": "python",
   "nbconvert_exporter": "python",
   "pygments_lexer": "ipython3",
   "version": "3.12.0"
  }
 },
 "nbformat": 4,
 "nbformat_minor": 2
}
