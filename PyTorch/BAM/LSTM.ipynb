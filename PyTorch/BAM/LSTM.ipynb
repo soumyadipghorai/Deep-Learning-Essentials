{
 "cells": [
  {
   "cell_type": "code",
   "execution_count": 2,
   "metadata": {},
   "outputs": [],
   "source": [
    "import torch \n",
    "import torch.nn as nn \n",
    "import torch.nn.functional as F \n",
    "from torch.optim import Adam\n",
    "\n",
    "import lightning as L \n",
    "from torch.utils.data import TensorDataset, DataLoader"
   ]
  },
  {
   "cell_type": "code",
   "execution_count": 15,
   "metadata": {},
   "outputs": [],
   "source": [
    "class LSTMbyHand(L.LightningModule) :\n",
    "    def __init__(self) : \n",
    "        super().__init__()\n",
    "        mean = torch.tensor(0.0)\n",
    "        std = torch.tensor(1.0)\n",
    "        self.wlr1 = nn.Parameter(torch.normal(mean = mean, std = std), requires_grad = True)\n",
    "        self.wlr2 = nn.Parameter(torch.normal(mean = mean, std = std), requires_grad = True)\n",
    "        self.blr1 = nn.Parameter(torch.tensor(0.), requires_grad = True)\n",
    "\n",
    "        self.wpr1 = nn.Parameter(torch.normal(mean = mean, std = std), requires_grad = True)\n",
    "        self.wpr2 = nn.Parameter(torch.normal(mean = mean, std = std), requires_grad = True)\n",
    "        self.bpr1 = nn.Parameter(torch.tensor(0.), requires_grad = True)\n",
    "        \n",
    "        self.wp1 = nn.Parameter(torch.normal(mean = mean, std = std), requires_grad = True)\n",
    "        self.wp2 = nn.Parameter(torch.normal(mean = mean, std = std), requires_grad = True)\n",
    "        self.bp1 = nn.Parameter(torch.tensor(0.), requires_grad = True)\n",
    "        \n",
    "        self.wo1 = nn.Parameter(torch.normal(mean = mean, std = std), requires_grad = True)\n",
    "        self.wo2 = nn.Parameter(torch.normal(mean = mean, std = std), requires_grad = True)\n",
    "        self.bo1 = nn.Parameter(torch.tensor(0.), requires_grad = True)\n",
    "\n",
    "    def lstm_unit(self, input_value, long_memory, short_memory) : \n",
    "        long_remember_percent = torch.sigmoid((short_memory*self.wlr1) + (input_value*self.wlr2) + self.blr1)  \n",
    "        potential_remember_percent = torch.sigmoid((short_memory*self.wpr2) + (input_value*self.wpr2) + self.bpr1)\n",
    "        potential_memory = torch.tanh((short_memory*self.wp1) + (input_value*self.wp2) + self.bp1)\n",
    "        updated_long_memory = (long_memory*long_remember_percent) + (potential_remember_percent*potential_memory)\n",
    "        \n",
    "        output_percent = torch.sigmoid((short_memory*self.wo1) + (input_value*self.wo2) + self.bo1)\n",
    "        updated_short_memory = torch.tanh(updated_long_memory) * output_percent\n",
    "\n",
    "        return updated_long_memory, updated_short_memory\n",
    "    \n",
    "    def forward(self, input_value) : \n",
    "        long_memory, short_memory = 0, 0 \n",
    "        day1, day2, day3, day4 = input_value\n",
    "        long_memory, short_memory = self.lstm_unit(day1, long_memory, short_memory)\n",
    "        long_memory, short_memory = self.lstm_unit(day2, long_memory, short_memory)\n",
    "        long_memory, short_memory = self.lstm_unit(day3, long_memory, short_memory)\n",
    "        long_memory, short_memory = self.lstm_unit(day4, long_memory, short_memory)\n",
    "\n",
    "        return short_memory\n",
    "\n",
    "    def configure_optimizers(self) : \n",
    "        return Adam(self.parameters()) \n",
    "\n",
    "    def training_step(self, batch, batch_idx) : \n",
    "        input_i, label_i = batch \n",
    "        output_i = self.forward(input_i[0])\n",
    "        loss = (output_i - label_i)**2 \n",
    "\n",
    "        self.log(\"train_loss : \", loss) \n",
    "        if label_i == 0 : \n",
    "            self.log(\"output_0 : \", output_i)\n",
    "        else : \n",
    "            self.log(\"output_1 : \", output_i)\n",
    "\n",
    "        return loss "
   ]
  },
  {
   "cell_type": "code",
   "execution_count": 16,
   "metadata": {},
   "outputs": [
    {
     "name": "stdout",
     "output_type": "stream",
     "text": [
      "Company A : observed = 0, predicted =  tensor(0.0551)\n",
      "Company B : observed = 1, predicted =  tensor(0.0630)\n"
     ]
    }
   ],
   "source": [
    "model = LSTMbyHand()\n",
    "print(\"Company A : observed = 0, predicted = \", model(torch.tensor([0., 0.5, 0.25, 1.])).detach())\n",
    "print(\"Company B : observed = 1, predicted = \", model(torch.tensor([1., 0.5, 0.25, 1.])).detach())"
   ]
  },
  {
   "cell_type": "code",
   "execution_count": 22,
   "metadata": {},
   "outputs": [],
   "source": [
    "inputs = torch.tensor([\n",
    "    [0., 0.5, 0.25, 1.], \n",
    "    [1., 0.5, 0.25, 1.]\n",
    "])\n",
    "labels = torch.tensor([0., 1.])\n",
    "\n",
    "dataset = TensorDataset(inputs, labels)\n",
    "dataloader = DataLoader(dataset)"
   ]
  },
  {
   "cell_type": "code",
   "execution_count": 23,
   "metadata": {},
   "outputs": [
    {
     "name": "stderr",
     "output_type": "stream",
     "text": [
      "GPU available: False, used: False\n",
      "TPU available: False, using: 0 TPU cores\n",
      "HPU available: False, using: 0 HPUs\n",
      "\n",
      "  | Name         | Type | Params | Mode\n",
      "---------------------------------------------\n",
      "  | other params | n/a  | 12     | n/a \n",
      "---------------------------------------------\n",
      "12        Trainable params\n",
      "0         Non-trainable params\n",
      "12        Total params\n",
      "0.000     Total estimated model params size (MB)\n",
      "0         Modules in train mode\n",
      "0         Modules in eval mode\n",
      "c:\\Users\\ghora\\AppData\\Local\\Programs\\Python\\Python312\\Lib\\site-packages\\lightning\\pytorch\\trainer\\connectors\\data_connector.py:424: The 'train_dataloader' does not have many workers which may be a bottleneck. Consider increasing the value of the `num_workers` argument` to `num_workers=15` in the `DataLoader` to improve performance.\n",
      "c:\\Users\\ghora\\AppData\\Local\\Programs\\Python\\Python312\\Lib\\site-packages\\lightning\\pytorch\\loops\\fit_loop.py:298: The number of training batches (2) is smaller than the logging interval Trainer(log_every_n_steps=50). Set a lower value for log_every_n_steps if you want to see logs for the training epoch.\n"
     ]
    },
    {
     "data": {
      "application/vnd.jupyter.widget-view+json": {
       "model_id": "f5cb11e6d65e4be6b379ce1c6a375b63",
       "version_major": 2,
       "version_minor": 0
      },
      "text/plain": [
       "Training: |          | 0/? [00:00<?, ?it/s]"
      ]
     },
     "metadata": {},
     "output_type": "display_data"
    },
    {
     "name": "stderr",
     "output_type": "stream",
     "text": [
      "`Trainer.fit` stopped: `max_epochs=2000` reached.\n"
     ]
    }
   ],
   "source": [
    "trainer = L.Trainer(max_epochs=2000)\n",
    "trainer.fit(model, train_dataloaders=dataloader)"
   ]
  },
  {
   "cell_type": "code",
   "execution_count": 28,
   "metadata": {},
   "outputs": [
    {
     "name": "stdout",
     "output_type": "stream",
     "text": [
      "Company A: Observed = 0, prdicted =  tensor(0.0029)\n",
      "Company B: Observed = 1, prdicted =  tensor(0.9293)\n"
     ]
    }
   ],
   "source": [
    "print(\"Company A: Observed = 0, prdicted = \", model(torch.tensor([0., 0.5, 0.25, 1])).detach())\n",
    "print(\"Company cd B B: Observed = 1, prdicted = \", model(torch.tensor([1., 0.5, 0.25, 1.])).detach())"
   ]
  },
  {
   "cell_type": "markdown",
   "metadata": {},
   "source": [
    "```sh\n",
    "cd lighting_logs \n",
    "tensorboard --logdir=lighting_logs/\n",
    "```\n",
    "\n",
    "then visit `http://localhost:6006/`"
   ]
  },
  {
   "cell_type": "code",
   "execution_count": null,
   "metadata": {},
   "outputs": [],
   "source": []
  }
 ],
 "metadata": {
  "kernelspec": {
   "display_name": "Python 3",
   "language": "python",
   "name": "python3"
  },
  "language_info": {
   "codemirror_mode": {
    "name": "ipython",
    "version": 3
   },
   "file_extension": ".py",
   "mimetype": "text/x-python",
   "name": "python",
   "nbconvert_exporter": "python",
   "pygments_lexer": "ipython3",
   "version": "3.12.0"
  }
 },
 "nbformat": 4,
 "nbformat_minor": 2
}
